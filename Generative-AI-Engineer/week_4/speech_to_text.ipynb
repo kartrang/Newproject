{
 "cells": [
  {
   "cell_type": "code",
   "execution_count": null,
   "id": "15deda3c",
   "metadata": {},
   "outputs": [],
   "source": []
  },
  {
   "cell_type": "code",
   "execution_count": null,
   "id": "e9971a23",
   "metadata": {},
   "outputs": [],
   "source": [
    "\n",
    "import os\n",
    "from groq import Groq\n",
    "\n",
    "client = Groq()\n",
    "# filename = os.path.dirname(__file__) + \"/audio.m4a\"\n",
    "filename = \"path/to/your/audio/file.m4a\"\n",
    "\n",
    "with open(filename, \"rb\") as file:\n",
    "    transcription = client.audio.transcriptions.create(\n",
    "      file=(filename, file.read()),\n",
    "      model=\"whisper-large-v3-turbo\",\n",
    "      response_format=\"verbose_json\",\n",
    "    )\n",
    "    print(transcription.text)\n",
    "      "
   ]
  },
  {
   "cell_type": "code",
   "execution_count": null,
   "id": "75ad0b94",
   "metadata": {},
   "outputs": [],
   "source": []
  }
 ],
 "metadata": {
  "kernelspec": {
   "display_name": "edyoda",
   "language": "python",
   "name": "python3"
  },
  "language_info": {
   "codemirror_mode": {
    "name": "ipython",
    "version": 3
   },
   "file_extension": ".py",
   "mimetype": "text/x-python",
   "name": "python",
   "nbconvert_exporter": "python",
   "pygments_lexer": "ipython3",
   "version": "3.12.6"
  }
 },
 "nbformat": 4,
 "nbformat_minor": 5
}
