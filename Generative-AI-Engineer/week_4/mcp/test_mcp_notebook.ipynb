{
 "cells": [
  {
   "cell_type": "code",
   "execution_count": 1,
   "id": "daf5e6f8-fc39-43d2-b282-95b65be29061",
   "metadata": {},
   "outputs": [],
   "source": [
    "# pip install langchain-mcp-adapters"
   ]
  },
  {
   "cell_type": "code",
   "execution_count": 3,
   "id": "cc955ee0-fb8c-48d3-8251-4deb851fbaec",
   "metadata": {},
   "outputs": [],
   "source": [
    "# from test_servers.client import main\n",
    "from sqlite_server.client import main"
   ]
  },
  {
   "cell_type": "code",
   "execution_count": 4,
   "id": "b226ce6b-4e51-4d41-934c-486d26d9447d",
   "metadata": {},
   "outputs": [
    {
     "name": "stdout",
     "output_type": "stream",
     "text": [
      "The total number of patients is 1,163. \n",
      "\n",
      "This indicates a significant patient base, which could be relevant for assessing the capacity and demand for services in the healthcare facility. Would you like further insights or analysis regarding these patients?\n"
     ]
    }
   ],
   "source": [
    "# question = \"what is (3.3 * 2) + 1. also what is the weather in bangalore ?\"\n",
    "question = \"what is the total number of patients?\"\n",
    "# question = \"what percentage of patients are immunized ?\"\n",
    "\n",
    "# question = \"show me what type of encounters are most common among patients with different races\"\n",
    "# # question = \"list of top patients by number of encounters, number of claims and their immunity status.\"\n",
    "\n",
    "response= await main(question)\n",
    "print(response[\"messages\"][-1].content)"
   ]
  },
  {
   "cell_type": "code",
   "execution_count": 15,
   "id": "8f88fe8a",
   "metadata": {},
   "outputs": [],
   "source": [
    "# from langchain_core.messages import AIMessage, HumanMessage, ToolMessage, FunctionMessage\n",
    "# from pprint import pprint\n",
    "\n",
    "# for i, message in enumerate(response[\"messages\"]):\n",
    "#     print(f\"\\nMessage {i + 1} - Type: {type(message).__name__}\")\n",
    "#     print(\"-\" * 50)\n",
    "\n",
    "#     if isinstance(message, HumanMessage):\n",
    "#         print(f\"User Input: {message.content}\")\n",
    "\n",
    "#     elif isinstance(message, AIMessage):\n",
    "#         print(f\"AI Response: {message.content}\")\n",
    "#         if message.tool_calls:\n",
    "#             print(\"Tool Calls:\")\n",
    "#             for tool_call in message.tool_calls:\n",
    "#                 print(f\"  Tool Name: {tool_call['name']}\")\n",
    "#                 print(\"  Arguments:\")\n",
    "#                 pprint(tool_call['args'])\n",
    "\n",
    "#     elif isinstance(message, ToolMessage):\n",
    "#         print(f\"Tool Response from {message.tool_call_id}:\")\n",
    "#         print(f\"  Content: {message.content}\")\n",
    "\n",
    "#     elif isinstance(message, FunctionMessage):\n",
    "#         print(f\"Function Response:\")\n",
    "#         print(f\"  Name: {message.name}\")\n",
    "#         print(f\"  Content: {message.content}\")\n",
    "\n",
    "#     else:\n",
    "#         print(\"Other Message:\")\n",
    "#         pprint(message)\n",
    "\n",
    "#     print(\"-*-\" * 60)"
   ]
  },
  {
   "cell_type": "code",
   "execution_count": null,
   "id": "4f67224c",
   "metadata": {},
   "outputs": [],
   "source": [
    "from langchain_core.messages import AIMessage, HumanMessage, ToolMessage, FunctionMessage\n",
    "\n",
    "def format_response(response):\n",
    "    \"\"\"\n",
    "    Format the response from the server for better readability.\n",
    "    \"\"\"\n",
    "\n",
    "    formatted_response = \"\"\n",
    "    \n",
    "    for i, message in enumerate(response[\"messages\"]):\n",
    "        formatted_response += \"\\n\" + f\"\\nMessage {i + 1} - Type: {type(message).__name__}\"\n",
    "        formatted_response += \"\\n\" + \"-\" * 50\n",
    "\n",
    "        if isinstance(message, HumanMessage):\n",
    "            formatted_response += \"\\n\" + f\"User Input: {message.content}\"\n",
    "\n",
    "        elif isinstance(message, AIMessage):\n",
    "            formatted_response += \"\\n\" + f\"AI Response: {message.content}\"\n",
    "            if message.tool_calls:\n",
    "                formatted_response += \"\\n\" + \"Tool Calls:\"\n",
    "                for tool_call in message.tool_calls:\n",
    "                    formatted_response += \"\\n\" + f\"  Tool Name: {tool_call['name']}\"\n",
    "                    formatted_response += \"\\n\" + \"  Arguments:\"\n",
    "                    formatted_response += \"\\n\" + str(tool_call['args'])\n",
    "\n",
    "        elif isinstance(message, ToolMessage):\n",
    "            formatted_response += \"\\n\" + f\"Tool Response from {message.tool_call_id}:\"\n",
    "            formatted_response += \"\\n\" + f\"  Content: {message.content}\"\n",
    "\n",
    "        elif isinstance(message, FunctionMessage):\n",
    "            formatted_response += \"\\n\" + f\"Function Response:\"\n",
    "            formatted_response += \"\\n\" + f\"  Name: {message.name}\"\n",
    "            formatted_response += \"\\n\" + f\"  Content: {message.content}\"\n",
    "\n",
    "        else:\n",
    "            formatted_response += \"\\n\" + \"Other Message:\"\n",
    "            formatted_response += \"\\n\" + message\n",
    "\n",
    "        formatted_response += \"\\n\" + \"-*-\" * 60\n",
    "\n",
    "    return formatted_response\n",
    "\n",
    "\n",
    "formatted_response = format_response(response)"
   ]
  },
  {
   "cell_type": "code",
   "execution_count": 14,
   "id": "d77baa63",
   "metadata": {},
   "outputs": [
    {
     "name": "stdout",
     "output_type": "stream",
     "text": [
      "\n",
      "\n",
      "Message 1 - Type: HumanMessage\n",
      "--------------------------------------------------\n",
      "User Input: what is the total number of patients?\n",
      "-*--*--*--*--*--*--*--*--*--*--*--*--*--*--*--*--*--*--*--*--*--*--*--*--*--*--*--*--*--*--*--*--*--*--*--*--*--*--*--*--*--*--*--*--*--*--*--*--*--*--*--*--*--*--*--*--*--*--*--*-\n",
      "\n",
      "Message 2 - Type: AIMessage\n",
      "--------------------------------------------------\n",
      "AI Response: \n",
      "Tool Calls:\n",
      "  Tool Name: list_tables\n",
      "  Arguments:\n",
      "{}\n",
      "-*--*--*--*--*--*--*--*--*--*--*--*--*--*--*--*--*--*--*--*--*--*--*--*--*--*--*--*--*--*--*--*--*--*--*--*--*--*--*--*--*--*--*--*--*--*--*--*--*--*--*--*--*--*--*--*--*--*--*--*-\n",
      "\n",
      "Message 3 - Type: ToolMessage\n",
      "--------------------------------------------------\n",
      "Tool Response from call_Ukp391rz7ybINdQ17ekVjCGW:\n",
      "  Content: [{'name': 'conditions'}, {'name': 'devices'}, {'name': 'procedures'}, {'name': 'careplans'}, {'name': 'immunizations'}, {'name': 'supplies'}, {'name': 'imaging_studies'}, {'name': 'encounters'}, {'name': 'organizations'}, {'name': 'medications'}, {'name': 'allergies'}, {'name': 'payer_transitions'}, {'name': 'patients'}, {'name': 'observations'}, {'name': 'claims'}, {'name': 'claims_transactions'}, {'name': 'payers'}, {'name': 'providers'}]\n",
      "-*--*--*--*--*--*--*--*--*--*--*--*--*--*--*--*--*--*--*--*--*--*--*--*--*--*--*--*--*--*--*--*--*--*--*--*--*--*--*--*--*--*--*--*--*--*--*--*--*--*--*--*--*--*--*--*--*--*--*--*-\n",
      "\n",
      "Message 4 - Type: AIMessage\n",
      "--------------------------------------------------\n",
      "AI Response: \n",
      "Tool Calls:\n",
      "  Tool Name: describe_table\n",
      "  Arguments:\n",
      "{'table_name': 'patients'}\n",
      "-*--*--*--*--*--*--*--*--*--*--*--*--*--*--*--*--*--*--*--*--*--*--*--*--*--*--*--*--*--*--*--*--*--*--*--*--*--*--*--*--*--*--*--*--*--*--*--*--*--*--*--*--*--*--*--*--*--*--*--*-\n",
      "\n",
      "Message 5 - Type: ToolMessage\n",
      "--------------------------------------------------\n",
      "Tool Response from call_yR7Wr9wxz2Nyd3ZgOInBebjZ:\n",
      "  Content: [{'cid': 0, 'name': 'address', 'type': 'TEXT', 'notnull': 0, 'dflt_value': None, 'pk': 0}, {'cid': 1, 'name': 'birthdate', 'type': 'TEXT', 'notnull': 0, 'dflt_value': None, 'pk': 0}, {'cid': 2, 'name': 'birthplace', 'type': 'TEXT', 'notnull': 0, 'dflt_value': None, 'pk': 0}, {'cid': 3, 'name': 'city', 'type': 'TEXT', 'notnull': 0, 'dflt_value': None, 'pk': 0}, {'cid': 4, 'name': 'county', 'type': 'TEXT', 'notnull': 0, 'dflt_value': None, 'pk': 0}, {'cid': 5, 'name': 'deathdate', 'type': 'TEXT', 'notnull': 0, 'dflt_value': None, 'pk': 0}, {'cid': 6, 'name': 'drivers', 'type': 'TEXT', 'notnull': 0, 'dflt_value': None, 'pk': 0}, {'cid': 7, 'name': 'ethnicity', 'type': 'TEXT', 'notnull': 0, 'dflt_value': None, 'pk': 0}, {'cid': 8, 'name': 'first', 'type': 'TEXT', 'notnull': 0, 'dflt_value': None, 'pk': 0}, {'cid': 9, 'name': 'gender', 'type': 'TEXT', 'notnull': 0, 'dflt_value': None, 'pk': 0}, {'cid': 10, 'name': 'healthcare_coverage', 'type': 'REAL', 'notnull': 0, 'dflt_value': None, 'pk': 0}, {'cid': 11, 'name': 'healthcare_expenses', 'type': 'REAL', 'notnull': 0, 'dflt_value': None, 'pk': 0}, {'cid': 12, 'name': 'last', 'type': 'TEXT', 'notnull': 0, 'dflt_value': None, 'pk': 0}, {'cid': 13, 'name': 'lat', 'type': 'REAL', 'notnull': 0, 'dflt_value': None, 'pk': 0}, {'cid': 14, 'name': 'lon', 'type': 'REAL', 'notnull': 0, 'dflt_value': None, 'pk': 0}, {'cid': 15, 'name': 'maiden', 'type': 'TEXT', 'notnull': 0, 'dflt_value': None, 'pk': 0}, {'cid': 16, 'name': 'marital', 'type': 'TEXT', 'notnull': 0, 'dflt_value': None, 'pk': 0}, {'cid': 17, 'name': 'passport', 'type': 'TEXT', 'notnull': 0, 'dflt_value': None, 'pk': 0}, {'cid': 18, 'name': 'prefix', 'type': 'TEXT', 'notnull': 0, 'dflt_value': None, 'pk': 0}, {'cid': 19, 'name': 'race', 'type': 'TEXT', 'notnull': 0, 'dflt_value': None, 'pk': 0}, {'cid': 20, 'name': 'ssn', 'type': 'TEXT', 'notnull': 0, 'dflt_value': None, 'pk': 0}, {'cid': 21, 'name': 'state', 'type': 'TEXT', 'notnull': 0, 'dflt_value': None, 'pk': 0}, {'cid': 22, 'name': 'suffix', 'type': 'TEXT', 'notnull': 0, 'dflt_value': None, 'pk': 0}, {'cid': 23, 'name': 'zip', 'type': 'INTEGER', 'notnull': 0, 'dflt_value': None, 'pk': 0}, {'cid': 24, 'name': 'id', 'type': 'TEXT', 'notnull': 0, 'dflt_value': None, 'pk': 0}]\n",
      "-*--*--*--*--*--*--*--*--*--*--*--*--*--*--*--*--*--*--*--*--*--*--*--*--*--*--*--*--*--*--*--*--*--*--*--*--*--*--*--*--*--*--*--*--*--*--*--*--*--*--*--*--*--*--*--*--*--*--*--*-\n",
      "\n",
      "Message 6 - Type: AIMessage\n",
      "--------------------------------------------------\n",
      "AI Response: \n",
      "Tool Calls:\n",
      "  Tool Name: read_query\n",
      "  Arguments:\n",
      "{'query': 'SELECT COUNT(*) AS total_patients FROM patients;'}\n",
      "-*--*--*--*--*--*--*--*--*--*--*--*--*--*--*--*--*--*--*--*--*--*--*--*--*--*--*--*--*--*--*--*--*--*--*--*--*--*--*--*--*--*--*--*--*--*--*--*--*--*--*--*--*--*--*--*--*--*--*--*-\n",
      "\n",
      "Message 7 - Type: ToolMessage\n",
      "--------------------------------------------------\n",
      "Tool Response from call_TwX4CGzCaX44T0opbagZaXIx:\n",
      "  Content: [{'total_patients': 1163}]\n",
      "-*--*--*--*--*--*--*--*--*--*--*--*--*--*--*--*--*--*--*--*--*--*--*--*--*--*--*--*--*--*--*--*--*--*--*--*--*--*--*--*--*--*--*--*--*--*--*--*--*--*--*--*--*--*--*--*--*--*--*--*-\n",
      "\n",
      "Message 8 - Type: AIMessage\n",
      "--------------------------------------------------\n",
      "AI Response: The total number of patients is 1,163. \n",
      "\n",
      "This indicates a significant patient base, which could be relevant for assessing the capacity and demand for services in the healthcare facility. Would you like further insights or analysis regarding these patients?\n",
      "-*--*--*--*--*--*--*--*--*--*--*--*--*--*--*--*--*--*--*--*--*--*--*--*--*--*--*--*--*--*--*--*--*--*--*--*--*--*--*--*--*--*--*--*--*--*--*--*--*--*--*--*--*--*--*--*--*--*--*--*-\n"
     ]
    }
   ],
   "source": [
    "print(formatted_response)"
   ]
  },
  {
   "cell_type": "code",
   "execution_count": null,
   "id": "175ce446",
   "metadata": {},
   "outputs": [],
   "source": []
  },
  {
   "cell_type": "code",
   "execution_count": null,
   "id": "88e28ab0",
   "metadata": {},
   "outputs": [],
   "source": []
  },
  {
   "cell_type": "code",
   "execution_count": null,
   "id": "8a40d054",
   "metadata": {},
   "outputs": [],
   "source": []
  },
  {
   "cell_type": "code",
   "execution_count": null,
   "id": "ae2b14c7",
   "metadata": {},
   "outputs": [],
   "source": []
  },
  {
   "cell_type": "code",
   "execution_count": null,
   "id": "1dddb356",
   "metadata": {},
   "outputs": [],
   "source": []
  }
 ],
 "metadata": {
  "kernelspec": {
   "display_name": "edyoda",
   "language": "python",
   "name": "python3"
  },
  "language_info": {
   "codemirror_mode": {
    "name": "ipython",
    "version": 3
   },
   "file_extension": ".py",
   "mimetype": "text/x-python",
   "name": "python",
   "nbconvert_exporter": "python",
   "pygments_lexer": "ipython3",
   "version": "3.12.6"
  }
 },
 "nbformat": 4,
 "nbformat_minor": 5
}
