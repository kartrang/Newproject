{
  "cells": [
    {
      "cell_type": "code",
      "execution_count": null,
      "metadata": {
        "id": "BsQYhktCjcO9"
      },
      "outputs": [],
      "source": [
        "# !pip install langchain -q"
      ]
    },
    {
      "cell_type": "markdown",
      "metadata": {
        "id": "K5XEZ8PbjI8F"
      },
      "source": [
        "## 1/ Character Splitting"
      ]
    },
    {
      "cell_type": "code",
      "execution_count": null,
      "metadata": {
        "id": "ZzFMp5mKjj6k"
      },
      "outputs": [],
      "source": [
        "from langchain.text_splitter import CharacterTextSplitter"
      ]
    },
    {
      "cell_type": "code",
      "execution_count": null,
      "metadata": {
        "id": "0kbsjE-LiPLe"
      },
      "outputs": [],
      "source": [
        "text = \"\"\"\n",
        "Title: Technology at the Dawn of the 21st Century\n",
        "\n",
        "As the world crossed the threshold into the 21st century, the landscape of technology underwent a profound transformation, reshaping the way we live, work, and interact. This era marked a pivotal moment in human history, characterized by rapid advancements in various fields of technology, revolutionizing communication, transportation, healthcare, and more. In this essay, we will explore the technological landscape at the dawn of the 21st century and its profound impact on society.\n",
        "\n",
        "One of the most significant technological breakthroughs of the early 21st century was the widespread adoption of the internet. The internet had already begun to gain traction in the late 20th century, but its influence truly exploded in the early years of the new millennium. With the advent of high-speed broadband connections, the internet became more accessible to people around the world, facilitating instant communication, access to information, and the rise of e-commerce.\n",
        "\n",
        "The proliferation of smartphones and mobile devices further accelerated the internet revolution. These portable gadgets empowered individuals to stay connected on the go, access a wealth of digital content, and engage with various online services. Social media platforms like Facebook, Twitter, and Instagram emerged as dominant forces, reshaping how people communicate, share information, and build communities.\n",
        "\n",
        "In addition to transforming communication, technology also revolutionized industries such as healthcare and transportation. The development of advanced medical imaging techniques, robotics, and telemedicine enabled more accurate diagnoses, minimally invasive surgeries, and remote patient monitoring. Similarly, innovations in transportation, such as electric vehicles and autonomous driving technology, promised to make travel safer, more efficient, and environmentally sustainable.\n",
        "\n",
        "The early 21st century also witnessed significant advancements in the field of artificial intelligence (AI) and machine learning. These technologies, once confined to the realm of science fiction, began to permeate various aspects of everyday life. AI-powered algorithms fueled personalized recommendations on streaming services, optimized logistics and supply chains, and even assisted in diagnosing diseases and predicting outcomes in healthcare.\n",
        "\n",
        "Furthermore, the rise of renewable energy technologies marked a crucial turning point in the fight against climate change. Solar panels, wind turbines, and other green energy sources gained traction as alternatives to fossil fuels, offering cleaner and more sustainable solutions to meet the world's growing energy demands. Governments and corporations increasingly invested in renewable energy infrastructure, signaling a shift towards a more environmentally conscious future.\n",
        "\n",
        "However, along with its myriad benefits, the rapid pace of technological advancement also brought about new challenges and ethical dilemmas. Concerns about data privacy, cybersecurity, and the ethical implications of AI algorithms became increasingly prominent. The digital divide widened, exacerbating inequalities as some communities struggled to access or afford the latest technologies.\n",
        "\n",
        "In conclusion, the dawn of the 21st century marked a period of unprecedented technological progress, reshaping nearly every aspect of human society. From the internet and mobile devices to artificial intelligence and renewable energy, the innovations of this era have transformed how we live, work, and interact with the world around us. As we continue to navigate the complexities of the digital age, it is essential to harness the potential of technology for the greater good while addressing its associated challenges and ensuring inclusivity and ethical responsibility.\n",
        "\"\"\""
      ]
    },
    {
      "cell_type": "code",
      "execution_count": null,
      "metadata": {
        "colab": {
          "base_uri": "https://localhost:8080/"
        },
        "id": "KQN1E5iMjr3F",
        "outputId": "ac8e8f74-fbc3-470e-ea75-c405508ba4cc"
      },
      "outputs": [
        {
          "name": "stdout",
          "output_type": "stream",
          "text": [
            "11 chunk created. \n",
            "\n",
            "\n",
            "chunk: 0 \n",
            "Title: Technology at the Dawn of the 21st Century\n",
            "\n",
            "As the world crossed the threshold into the 21st century, the landscape of technology underwent a profound transformation, reshaping the way we live, work, and interact. This era marked a pivotal moment in human history, characterized by rapid advancements in various fields of technology, revoluti\n",
            "-*--*--*--*--*--*--*--*--*--*--*--*--*--*--*--*--*--*--*--*--*--*--*--*--*--*--*--*--*--*--*--*--*--*--*--*--*--*--*--*--*--*--*--*--*--*--*--*--*--*--*--*--*--*--*--*--*--*--*--*--*--*--*--*--*--*--*--*--*--*--*--*--*--*--*--*--*--*--*--*-\n",
            "chunk: 1 onizing communication, transportation, healthcare, and more. In this essay, we will explore the technological landscape at the dawn of the 21st century and its profound impact on society.\n",
            "\n",
            "One of the most significant technological breakthroughs of the early 21st century was the widespread adoption of the internet. The internet had already begun to \n",
            "-*--*--*--*--*--*--*--*--*--*--*--*--*--*--*--*--*--*--*--*--*--*--*--*--*--*--*--*--*--*--*--*--*--*--*--*--*--*--*--*--*--*--*--*--*--*--*--*--*--*--*--*--*--*--*--*--*--*--*--*--*--*--*--*--*--*--*--*--*--*--*--*--*--*--*--*--*--*--*--*-\n",
            "chunk: 2 gain traction in the late 20th century, but its influence truly exploded in the early years of the new millennium. With the advent of high-speed broadband connections, the internet became more accessible to people around the world, facilitating instant communication, access to information, and the rise of e-commerce.\n",
            "\n",
            "The proliferation of smartphon\n",
            "-*--*--*--*--*--*--*--*--*--*--*--*--*--*--*--*--*--*--*--*--*--*--*--*--*--*--*--*--*--*--*--*--*--*--*--*--*--*--*--*--*--*--*--*--*--*--*--*--*--*--*--*--*--*--*--*--*--*--*--*--*--*--*--*--*--*--*--*--*--*--*--*--*--*--*--*--*--*--*--*-\n",
            "chunk: 3 es and mobile devices further accelerated the internet revolution. These portable gadgets empowered individuals to stay connected on the go, access a wealth of digital content, and engage with various online services. Social media platforms like Facebook, Twitter, and Instagram emerged as dominant forces, reshaping how people communicate, share inf\n",
            "-*--*--*--*--*--*--*--*--*--*--*--*--*--*--*--*--*--*--*--*--*--*--*--*--*--*--*--*--*--*--*--*--*--*--*--*--*--*--*--*--*--*--*--*--*--*--*--*--*--*--*--*--*--*--*--*--*--*--*--*--*--*--*--*--*--*--*--*--*--*--*--*--*--*--*--*--*--*--*--*-\n",
            "chunk: 4 ormation, and build communities.\n",
            "\n",
            "In addition to transforming communication, technology also revolutionized industries such as healthcare and transportation. The development of advanced medical imaging techniques, robotics, and telemedicine enabled more accurate diagnoses, minimally invasive surgeries, and remote patient monitoring. Similarly, inno\n",
            "-*--*--*--*--*--*--*--*--*--*--*--*--*--*--*--*--*--*--*--*--*--*--*--*--*--*--*--*--*--*--*--*--*--*--*--*--*--*--*--*--*--*--*--*--*--*--*--*--*--*--*--*--*--*--*--*--*--*--*--*--*--*--*--*--*--*--*--*--*--*--*--*--*--*--*--*--*--*--*--*-\n",
            "chunk: 5 vations in transportation, such as electric vehicles and autonomous driving technology, promised to make travel safer, more efficient, and environmentally sustainable.\n",
            "\n",
            "The early 21st century also witnessed significant advancements in the field of artificial intelligence (AI) and machine learning. These technologies, once confined to the realm of s\n",
            "-*--*--*--*--*--*--*--*--*--*--*--*--*--*--*--*--*--*--*--*--*--*--*--*--*--*--*--*--*--*--*--*--*--*--*--*--*--*--*--*--*--*--*--*--*--*--*--*--*--*--*--*--*--*--*--*--*--*--*--*--*--*--*--*--*--*--*--*--*--*--*--*--*--*--*--*--*--*--*--*-\n",
            "chunk: 6 cience fiction, began to permeate various aspects of everyday life. AI-powered algorithms fueled personalized recommendations on streaming services, optimized logistics and supply chains, and even assisted in diagnosing diseases and predicting outcomes in healthcare.\n",
            "\n",
            "Furthermore, the rise of renewable energy technologies marked a crucial turning p\n",
            "-*--*--*--*--*--*--*--*--*--*--*--*--*--*--*--*--*--*--*--*--*--*--*--*--*--*--*--*--*--*--*--*--*--*--*--*--*--*--*--*--*--*--*--*--*--*--*--*--*--*--*--*--*--*--*--*--*--*--*--*--*--*--*--*--*--*--*--*--*--*--*--*--*--*--*--*--*--*--*--*-\n",
            "chunk: 7 oint in the fight against climate change. Solar panels, wind turbines, and other green energy sources gained traction as alternatives to fossil fuels, offering cleaner and more sustainable solutions to meet the world's growing energy demands. Governments and corporations increasingly invested in renewable energy infrastructure, signaling a shift to\n",
            "-*--*--*--*--*--*--*--*--*--*--*--*--*--*--*--*--*--*--*--*--*--*--*--*--*--*--*--*--*--*--*--*--*--*--*--*--*--*--*--*--*--*--*--*--*--*--*--*--*--*--*--*--*--*--*--*--*--*--*--*--*--*--*--*--*--*--*--*--*--*--*--*--*--*--*--*--*--*--*--*-\n",
            "chunk: 8 wards a more environmentally conscious future.\n",
            "\n",
            "However, along with its myriad benefits, the rapid pace of technological advancement also brought about new challenges and ethical dilemmas. Concerns about data privacy, cybersecurity, and the ethical implications of AI algorithms became increasingly prominent. The digital divide widened, exacerbating\n",
            "-*--*--*--*--*--*--*--*--*--*--*--*--*--*--*--*--*--*--*--*--*--*--*--*--*--*--*--*--*--*--*--*--*--*--*--*--*--*--*--*--*--*--*--*--*--*--*--*--*--*--*--*--*--*--*--*--*--*--*--*--*--*--*--*--*--*--*--*--*--*--*--*--*--*--*--*--*--*--*--*-\n",
            "chunk: 9  inequalities as some communities struggled to access or afford the latest technologies.\n",
            "\n",
            "In conclusion, the dawn of the 21st century marked a period of unprecedented technological progress, reshaping nearly every aspect of human society. From the internet and mobile devices to artificial intelligence and renewable energy, the innovations of this e\n",
            "-*--*--*--*--*--*--*--*--*--*--*--*--*--*--*--*--*--*--*--*--*--*--*--*--*--*--*--*--*--*--*--*--*--*--*--*--*--*--*--*--*--*--*--*--*--*--*--*--*--*--*--*--*--*--*--*--*--*--*--*--*--*--*--*--*--*--*--*--*--*--*--*--*--*--*--*--*--*--*--*-\n",
            "chunk: 10 ra have transformed how we live, work, and interact with the world around us. As we continue to navigate the complexities of the digital age, it is essential to harness the potential of technology for the greater good while addressing its associated challenges and ensuring inclusivity and ethical responsibility.\n",
            "\n",
            "-*--*--*--*--*--*--*--*--*--*--*--*--*--*--*--*--*--*--*--*--*--*--*--*--*--*--*--*--*--*--*--*--*--*--*--*--*--*--*--*--*--*--*--*--*--*--*--*--*--*--*--*--*--*--*--*--*--*--*--*--*--*--*--*--*--*--*--*--*--*--*--*--*--*--*--*--*--*--*--*-\n"
          ]
        }
      ],
      "source": [
        "# No overlap\n",
        "text_splitter = CharacterTextSplitter(chunk_size = 350, chunk_overlap=0, separator='', strip_whitespace=False)\n",
        "\n",
        "split_text = text_splitter.create_documents([text])\n",
        "\n",
        "print(len(split_text),\"chunk created. \\n\\n\")\n",
        "for i in range(len(split_text)):\n",
        "  print('chunk:',i,split_text[i].page_content)\n",
        "  print(\"-*-\"*80)"
      ]
    },
    {
      "cell_type": "code",
      "execution_count": null,
      "metadata": {
        "colab": {
          "base_uri": "https://localhost:8080/"
        },
        "id": "MpINnuaxjzHQ",
        "outputId": "59c441da-4325-4a51-ef4f-01b2453db709"
      },
      "outputs": [
        {
          "name": "stdout",
          "output_type": "stream",
          "text": [
            "13 chunk created. \n",
            "\n",
            "\n",
            "chunk: 0 \n",
            "Title: Technology at the Dawn of the 21st Century\n",
            "\n",
            "As the world crossed the threshold into the 21st century, the landscape of technology underwent a profound transformation, reshaping the way we live, work, and interact. This era marked a pivotal moment in human history, characterized by rapid advancements in various fields of technology, revoluti\n",
            "-*--*--*--*--*--*--*--*--*--*--*--*--*--*--*--*--*--*--*--*--*--*--*--*--*--*--*--*--*--*--*--*--*--*--*--*--*--*--*--*--*--*--*--*--*--*--*--*--*--*--*--*--*--*--*--*--*--*--*--*--*--*--*--*--*--*--*--*--*--*--*--*--*--*--*--*--*--*--*--*-\n",
            "chunk: 1 n various fields of technology, revolutionizing communication, transportation, healthcare, and more. In this essay, we will explore the technological landscape at the dawn of the 21st century and its profound impact on society.\n",
            "\n",
            "One of the most significant technological breakthroughs of the early 21st century was the widespread adoption of the inte\n",
            "-*--*--*--*--*--*--*--*--*--*--*--*--*--*--*--*--*--*--*--*--*--*--*--*--*--*--*--*--*--*--*--*--*--*--*--*--*--*--*--*--*--*--*--*--*--*--*--*--*--*--*--*--*--*--*--*--*--*--*--*--*--*--*--*--*--*--*--*--*--*--*--*--*--*--*--*--*--*--*--*-\n",
            "chunk: 2  was the widespread adoption of the internet. The internet had already begun to gain traction in the late 20th century, but its influence truly exploded in the early years of the new millennium. With the advent of high-speed broadband connections, the internet became more accessible to people around the world, facilitating instant communication, ac\n",
            "-*--*--*--*--*--*--*--*--*--*--*--*--*--*--*--*--*--*--*--*--*--*--*--*--*--*--*--*--*--*--*--*--*--*--*--*--*--*--*--*--*--*--*--*--*--*--*--*--*--*--*--*--*--*--*--*--*--*--*--*--*--*--*--*--*--*--*--*--*--*--*--*--*--*--*--*--*--*--*--*-\n",
            "chunk: 3 , facilitating instant communication, access to information, and the rise of e-commerce.\n",
            "\n",
            "The proliferation of smartphones and mobile devices further accelerated the internet revolution. These portable gadgets empowered individuals to stay connected on the go, access a wealth of digital content, and engage with various online services. Social media\n",
            "-*--*--*--*--*--*--*--*--*--*--*--*--*--*--*--*--*--*--*--*--*--*--*--*--*--*--*--*--*--*--*--*--*--*--*--*--*--*--*--*--*--*--*--*--*--*--*--*--*--*--*--*--*--*--*--*--*--*--*--*--*--*--*--*--*--*--*--*--*--*--*--*--*--*--*--*--*--*--*--*-\n",
            "chunk: 4 th various online services. Social media platforms like Facebook, Twitter, and Instagram emerged as dominant forces, reshaping how people communicate, share information, and build communities.\n",
            "\n",
            "In addition to transforming communication, technology also revolutionized industries such as healthcare and transportation. The development of advanced medi\n",
            "-*--*--*--*--*--*--*--*--*--*--*--*--*--*--*--*--*--*--*--*--*--*--*--*--*--*--*--*--*--*--*--*--*--*--*--*--*--*--*--*--*--*--*--*--*--*--*--*--*--*--*--*--*--*--*--*--*--*--*--*--*--*--*--*--*--*--*--*--*--*--*--*--*--*--*--*--*--*--*--*-\n",
            "chunk: 5 tation. The development of advanced medical imaging techniques, robotics, and telemedicine enabled more accurate diagnoses, minimally invasive surgeries, and remote patient monitoring. Similarly, innovations in transportation, such as electric vehicles and autonomous driving technology, promised to make travel safer, more efficient, and environment\n",
            "-*--*--*--*--*--*--*--*--*--*--*--*--*--*--*--*--*--*--*--*--*--*--*--*--*--*--*--*--*--*--*--*--*--*--*--*--*--*--*--*--*--*--*--*--*--*--*--*--*--*--*--*--*--*--*--*--*--*--*--*--*--*--*--*--*--*--*--*--*--*--*--*--*--*--*--*--*--*--*--*-\n",
            "chunk: 6 l safer, more efficient, and environmentally sustainable.\n",
            "\n",
            "The early 21st century also witnessed significant advancements in the field of artificial intelligence (AI) and machine learning. These technologies, once confined to the realm of science fiction, began to permeate various aspects of everyday life. AI-powered algorithms fueled personalized \n",
            "-*--*--*--*--*--*--*--*--*--*--*--*--*--*--*--*--*--*--*--*--*--*--*--*--*--*--*--*--*--*--*--*--*--*--*--*--*--*--*--*--*--*--*--*--*--*--*--*--*--*--*--*--*--*--*--*--*--*--*--*--*--*--*--*--*--*--*--*--*--*--*--*--*--*--*--*--*--*--*--*-\n",
            "chunk: 7 -powered algorithms fueled personalized recommendations on streaming services, optimized logistics and supply chains, and even assisted in diagnosing diseases and predicting outcomes in healthcare.\n",
            "\n",
            "Furthermore, the rise of renewable energy technologies marked a crucial turning point in the fight against climate change. Solar panels, wind turbines,\n",
            "-*--*--*--*--*--*--*--*--*--*--*--*--*--*--*--*--*--*--*--*--*--*--*--*--*--*--*--*--*--*--*--*--*--*--*--*--*--*--*--*--*--*--*--*--*--*--*--*--*--*--*--*--*--*--*--*--*--*--*--*--*--*--*--*--*--*--*--*--*--*--*--*--*--*--*--*--*--*--*--*-\n",
            "chunk: 8 ate change. Solar panels, wind turbines, and other green energy sources gained traction as alternatives to fossil fuels, offering cleaner and more sustainable solutions to meet the world's growing energy demands. Governments and corporations increasingly invested in renewable energy infrastructure, signaling a shift towards a more environmentally c\n",
            "-*--*--*--*--*--*--*--*--*--*--*--*--*--*--*--*--*--*--*--*--*--*--*--*--*--*--*--*--*--*--*--*--*--*--*--*--*--*--*--*--*--*--*--*--*--*--*--*--*--*--*--*--*--*--*--*--*--*--*--*--*--*--*--*--*--*--*--*--*--*--*--*--*--*--*--*--*--*--*--*-\n",
            "chunk: 9 a shift towards a more environmentally conscious future.\n",
            "\n",
            "However, along with its myriad benefits, the rapid pace of technological advancement also brought about new challenges and ethical dilemmas. Concerns about data privacy, cybersecurity, and the ethical implications of AI algorithms became increasingly prominent. The digital divide widened, ex\n",
            "-*--*--*--*--*--*--*--*--*--*--*--*--*--*--*--*--*--*--*--*--*--*--*--*--*--*--*--*--*--*--*--*--*--*--*--*--*--*--*--*--*--*--*--*--*--*--*--*--*--*--*--*--*--*--*--*--*--*--*--*--*--*--*--*--*--*--*--*--*--*--*--*--*--*--*--*--*--*--*--*-\n",
            "chunk: 10 rominent. The digital divide widened, exacerbating inequalities as some communities struggled to access or afford the latest technologies.\n",
            "\n",
            "In conclusion, the dawn of the 21st century marked a period of unprecedented technological progress, reshaping nearly every aspect of human society. From the internet and mobile devices to artificial intelligen\n",
            "-*--*--*--*--*--*--*--*--*--*--*--*--*--*--*--*--*--*--*--*--*--*--*--*--*--*--*--*--*--*--*--*--*--*--*--*--*--*--*--*--*--*--*--*--*--*--*--*--*--*--*--*--*--*--*--*--*--*--*--*--*--*--*--*--*--*--*--*--*--*--*--*--*--*--*--*--*--*--*--*-\n",
            "chunk: 11  mobile devices to artificial intelligence and renewable energy, the innovations of this era have transformed how we live, work, and interact with the world around us. As we continue to navigate the complexities of the digital age, it is essential to harness the potential of technology for the greater good while addressing its associated challenges\n",
            "-*--*--*--*--*--*--*--*--*--*--*--*--*--*--*--*--*--*--*--*--*--*--*--*--*--*--*--*--*--*--*--*--*--*--*--*--*--*--*--*--*--*--*--*--*--*--*--*--*--*--*--*--*--*--*--*--*--*--*--*--*--*--*--*--*--*--*--*--*--*--*--*--*--*--*--*--*--*--*--*-\n",
            "chunk: 12 ile addressing its associated challenges and ensuring inclusivity and ethical responsibility.\n",
            "\n",
            "-*--*--*--*--*--*--*--*--*--*--*--*--*--*--*--*--*--*--*--*--*--*--*--*--*--*--*--*--*--*--*--*--*--*--*--*--*--*--*--*--*--*--*--*--*--*--*--*--*--*--*--*--*--*--*--*--*--*--*--*--*--*--*--*--*--*--*--*--*--*--*--*--*--*--*--*--*--*--*--*-\n"
          ]
        }
      ],
      "source": [
        "text_splitter = CharacterTextSplitter(chunk_size = 350, chunk_overlap=40, separator='', strip_whitespace=False)\n",
        "\n",
        "split_text = text_splitter.create_documents([text])\n",
        "\n",
        "print(len(split_text),\"chunk created. \\n\\n\")\n",
        "for i in range(len(split_text)):\n",
        "  print('chunk:',i,split_text[i].page_content)\n",
        "  print(\"-*-\"*80)"
      ]
    },
    {
      "cell_type": "code",
      "execution_count": null,
      "metadata": {
        "id": "tsFwIvUPj_AM"
      },
      "outputs": [],
      "source": []
    },
    {
      "cell_type": "markdown",
      "metadata": {
        "id": "Rs81IWCRlWE6"
      },
      "source": [
        "## 2/ Recursive Character Text Splitting"
      ]
    },
    {
      "cell_type": "code",
      "execution_count": null,
      "metadata": {
        "id": "O7JfEyykk9nB"
      },
      "outputs": [],
      "source": [
        "from langchain.text_splitter import RecursiveCharacterTextSplitter"
      ]
    },
    {
      "cell_type": "code",
      "execution_count": null,
      "metadata": {
        "id": "stLox8cdj-1C"
      },
      "outputs": [],
      "source": [
        "text_splitter = RecursiveCharacterTextSplitter(chunk_size = 650, chunk_overlap=0)"
      ]
    },
    {
      "cell_type": "code",
      "execution_count": null,
      "metadata": {
        "colab": {
          "base_uri": "https://localhost:8080/"
        },
        "id": "aayMEqldj_yA",
        "outputId": "739bacd9-b3dd-4f57-fdf6-29dd132ce118"
      },
      "outputs": [
        {
          "name": "stdout",
          "output_type": "stream",
          "text": [
            "8 chunk created. \n",
            "\n",
            "\n",
            "chunk: 0 Title: Technology at the Dawn of the 21st Century\n",
            "\n",
            "As the world crossed the threshold into the 21st century, the landscape of technology underwent a profound transformation, reshaping the way we live, work, and interact. This era marked a pivotal moment in human history, characterized by rapid advancements in various fields of technology, revolutionizing communication, transportation, healthcare, and more. In this essay, we will explore the technological landscape at the dawn of the 21st century and its profound impact on society.\n",
            "-*--*--*--*--*--*--*--*--*--*--*--*--*--*--*--*--*--*--*--*--*--*--*--*--*--*--*--*--*--*--*--*--*--*--*--*--*--*--*--*--*--*--*--*--*--*--*--*--*--*--*--*--*--*--*--*--*--*--*--*--*--*--*--*--*--*--*--*--*--*--*--*--*--*--*--*--*--*--*--*-\n",
            "chunk: 1 One of the most significant technological breakthroughs of the early 21st century was the widespread adoption of the internet. The internet had already begun to gain traction in the late 20th century, but its influence truly exploded in the early years of the new millennium. With the advent of high-speed broadband connections, the internet became more accessible to people around the world, facilitating instant communication, access to information, and the rise of e-commerce.\n",
            "-*--*--*--*--*--*--*--*--*--*--*--*--*--*--*--*--*--*--*--*--*--*--*--*--*--*--*--*--*--*--*--*--*--*--*--*--*--*--*--*--*--*--*--*--*--*--*--*--*--*--*--*--*--*--*--*--*--*--*--*--*--*--*--*--*--*--*--*--*--*--*--*--*--*--*--*--*--*--*--*-\n",
            "chunk: 2 The proliferation of smartphones and mobile devices further accelerated the internet revolution. These portable gadgets empowered individuals to stay connected on the go, access a wealth of digital content, and engage with various online services. Social media platforms like Facebook, Twitter, and Instagram emerged as dominant forces, reshaping how people communicate, share information, and build communities.\n",
            "-*--*--*--*--*--*--*--*--*--*--*--*--*--*--*--*--*--*--*--*--*--*--*--*--*--*--*--*--*--*--*--*--*--*--*--*--*--*--*--*--*--*--*--*--*--*--*--*--*--*--*--*--*--*--*--*--*--*--*--*--*--*--*--*--*--*--*--*--*--*--*--*--*--*--*--*--*--*--*--*-\n",
            "chunk: 3 In addition to transforming communication, technology also revolutionized industries such as healthcare and transportation. The development of advanced medical imaging techniques, robotics, and telemedicine enabled more accurate diagnoses, minimally invasive surgeries, and remote patient monitoring. Similarly, innovations in transportation, such as electric vehicles and autonomous driving technology, promised to make travel safer, more efficient, and environmentally sustainable.\n",
            "-*--*--*--*--*--*--*--*--*--*--*--*--*--*--*--*--*--*--*--*--*--*--*--*--*--*--*--*--*--*--*--*--*--*--*--*--*--*--*--*--*--*--*--*--*--*--*--*--*--*--*--*--*--*--*--*--*--*--*--*--*--*--*--*--*--*--*--*--*--*--*--*--*--*--*--*--*--*--*--*-\n",
            "chunk: 4 The early 21st century also witnessed significant advancements in the field of artificial intelligence (AI) and machine learning. These technologies, once confined to the realm of science fiction, began to permeate various aspects of everyday life. AI-powered algorithms fueled personalized recommendations on streaming services, optimized logistics and supply chains, and even assisted in diagnosing diseases and predicting outcomes in healthcare.\n",
            "-*--*--*--*--*--*--*--*--*--*--*--*--*--*--*--*--*--*--*--*--*--*--*--*--*--*--*--*--*--*--*--*--*--*--*--*--*--*--*--*--*--*--*--*--*--*--*--*--*--*--*--*--*--*--*--*--*--*--*--*--*--*--*--*--*--*--*--*--*--*--*--*--*--*--*--*--*--*--*--*-\n",
            "chunk: 5 Furthermore, the rise of renewable energy technologies marked a crucial turning point in the fight against climate change. Solar panels, wind turbines, and other green energy sources gained traction as alternatives to fossil fuels, offering cleaner and more sustainable solutions to meet the world's growing energy demands. Governments and corporations increasingly invested in renewable energy infrastructure, signaling a shift towards a more environmentally conscious future.\n",
            "-*--*--*--*--*--*--*--*--*--*--*--*--*--*--*--*--*--*--*--*--*--*--*--*--*--*--*--*--*--*--*--*--*--*--*--*--*--*--*--*--*--*--*--*--*--*--*--*--*--*--*--*--*--*--*--*--*--*--*--*--*--*--*--*--*--*--*--*--*--*--*--*--*--*--*--*--*--*--*--*-\n",
            "chunk: 6 However, along with its myriad benefits, the rapid pace of technological advancement also brought about new challenges and ethical dilemmas. Concerns about data privacy, cybersecurity, and the ethical implications of AI algorithms became increasingly prominent. The digital divide widened, exacerbating inequalities as some communities struggled to access or afford the latest technologies.\n",
            "-*--*--*--*--*--*--*--*--*--*--*--*--*--*--*--*--*--*--*--*--*--*--*--*--*--*--*--*--*--*--*--*--*--*--*--*--*--*--*--*--*--*--*--*--*--*--*--*--*--*--*--*--*--*--*--*--*--*--*--*--*--*--*--*--*--*--*--*--*--*--*--*--*--*--*--*--*--*--*--*-\n",
            "chunk: 7 In conclusion, the dawn of the 21st century marked a period of unprecedented technological progress, reshaping nearly every aspect of human society. From the internet and mobile devices to artificial intelligence and renewable energy, the innovations of this era have transformed how we live, work, and interact with the world around us. As we continue to navigate the complexities of the digital age, it is essential to harness the potential of technology for the greater good while addressing its associated challenges and ensuring inclusivity and ethical responsibility.\n",
            "-*--*--*--*--*--*--*--*--*--*--*--*--*--*--*--*--*--*--*--*--*--*--*--*--*--*--*--*--*--*--*--*--*--*--*--*--*--*--*--*--*--*--*--*--*--*--*--*--*--*--*--*--*--*--*--*--*--*--*--*--*--*--*--*--*--*--*--*--*--*--*--*--*--*--*--*--*--*--*--*-\n"
          ]
        }
      ],
      "source": [
        "split_text = text_splitter.create_documents([text])\n",
        "\n",
        "print(len(split_text),\"chunk created. \\n\\n\")\n",
        "for i in range(len(split_text)):\n",
        "  print('chunk:',i,split_text[i].page_content)\n",
        "  print(\"-*-\"*80)"
      ]
    },
    {
      "cell_type": "code",
      "execution_count": null,
      "metadata": {
        "id": "me8K_72QlUy5"
      },
      "outputs": [],
      "source": []
    },
    {
      "cell_type": "markdown",
      "metadata": {
        "id": "FBijrzhdnxMh"
      },
      "source": [
        "### document specific - pdf"
      ]
    },
    {
      "cell_type": "code",
      "execution_count": null,
      "metadata": {
        "id": "5kGd-g1gn2Nm"
      },
      "outputs": [],
      "source": [
        "# !pip install unstructured -q\n",
        "# !pip install pdf2image -q\n",
        "# !pip install pdfminer==10.1.0 -q\n",
        "# !pip install pillow-heif -q\n",
        "# !pip install unstructured_inference -q\n",
        "# !pip install pikepdf -q\n",
        "# !pip install unstructured_pytesseract -q\n",
        "# !pip install poppler-utils -q"
      ]
    },
    {
      "cell_type": "code",
      "execution_count": null,
      "metadata": {
        "id": "eROVxcJGouLs"
      },
      "outputs": [],
      "source": [
        "filename = \"/content/drive/MyDrive/Colab Notebooks/rag-with-chromadb/data/pdf/VisionIAS Economic Survey February 2024 Highlights of The Indian Economy A Review.pdf\"\n"
      ]
    },
    {
      "cell_type": "code",
      "execution_count": null,
      "metadata": {
        "id": "332NL129pf6P"
      },
      "outputs": [],
      "source": [
        "# !pip install pdfminer.six\n",
        "# from pdfminer.utils import open_filename\n",
        "# from pillow_heif import register_heif_opener\n",
        "# import unstructured_inference"
      ]
    },
    {
      "cell_type": "code",
      "execution_count": null,
      "metadata": {
        "id": "GWhF7g6BlU1u"
      },
      "outputs": [],
      "source": [
        "import os\n",
        "from unstructured.partition.pdf import partition_pdf\n",
        "from unstructured.staging.base import elements_to_json\n"
      ]
    },
    {
      "cell_type": "code",
      "execution_count": null,
      "metadata": {
        "colab": {
          "base_uri": "https://localhost:8080/"
        },
        "id": "9wRwejbwtIlc",
        "outputId": "c393612f-512a-46a8-e1ee-cd166bb66688"
      },
      "outputs": [
        {
          "name": "stdout",
          "output_type": "stream",
          "text": [
            "Reading package lists... Done\n",
            "Building dependency tree... Done\n",
            "Reading state information... Done\n",
            "The following NEW packages will be installed:\n",
            "  poppler-utils\n",
            "0 upgraded, 1 newly installed, 0 to remove and 33 not upgraded.\n",
            "Need to get 186 kB of archives.\n",
            "After this operation, 696 kB of additional disk space will be used.\n",
            "Get:1 http://archive.ubuntu.com/ubuntu jammy-updates/main amd64 poppler-utils amd64 22.02.0-2ubuntu0.3 [186 kB]\n",
            "Fetched 186 kB in 1s (309 kB/s)\n",
            "Selecting previously unselected package poppler-utils.\n",
            "(Reading database ... 121749 files and directories currently installed.)\n",
            "Preparing to unpack .../poppler-utils_22.02.0-2ubuntu0.3_amd64.deb ...\n",
            "Unpacking poppler-utils (22.02.0-2ubuntu0.3) ...\n",
            "Setting up poppler-utils (22.02.0-2ubuntu0.3) ...\n",
            "Processing triggers for man-db (2.10.2-1) ...\n"
          ]
        }
      ],
      "source": [
        "!apt-get install -y poppler-utils"
      ]
    },
    {
      "cell_type": "code",
      "execution_count": null,
      "metadata": {
        "colab": {
          "base_uri": "https://localhost:8080/"
        },
        "id": "2BHRjD6qtiaY",
        "outputId": "97ee063a-dd9d-4982-9825-ae3092626b7a"
      },
      "outputs": [
        {
          "name": "stdout",
          "output_type": "stream",
          "text": [
            "30\n"
          ]
        }
      ],
      "source": [
        "# !pip install PyPDF2 -q\n",
        "\n",
        "import PyPDF2\n",
        "\n",
        "def get_num_pages(pdf_path):\n",
        "    with open(pdf_path, \"rb\") as file:\n",
        "        pdf = PyPDF2.PdfReader(file)\n",
        "        return len(pdf.pages)\n",
        "\n",
        "pdf_path = filename\n",
        "print(get_num_pages(pdf_path))"
      ]
    },
    {
      "cell_type": "code",
      "execution_count": null,
      "metadata": {
        "id": "ENcOT_Mqrx1W"
      },
      "outputs": [],
      "source": [
        "# partition_pdf(\n",
        "#     filename=filename,                  # mandatory\n",
        "#     strategy=\"hi_res\",                                     # mandatory to use ``hi_res`` strategy\n",
        "#     extract_images_in_pdf=True,                            # mandatory to set as ``True``\n",
        "#     extract_image_block_types=[\"Image\", \"Table\"],          # optional\n",
        "#     extract_image_block_to_payload=False,                  # optional\n",
        "#     extract_image_block_output_dir=pic_in_pdf,  # optional - only works when ``extract_image_block_to_payload=False``\n",
        "#     )"
      ]
    },
    {
      "cell_type": "code",
      "execution_count": null,
      "metadata": {
        "id": "RS4yZ8I-lU4V"
      },
      "outputs": [],
      "source": [
        "# Extracts the elements from the PDF\n",
        "# filename=\"/content/drive/MyDrive/Colab Notebooks/rag-with-chromadb/data/pdf/CRM-Q3-FY24-Earnings-Press-Release-w-Financials.pdf\"\n",
        "elements = partition_pdf(\n",
        "    filename=filename,\n",
        "\n",
        "    # Unstructured Helpers\n",
        "    strategy=\"auto\")\n",
        "#     infer_table_structure=True,\n",
        "#     model_name=\"yolox\"\n",
        "# )"
      ]
    },
    {
      "cell_type": "code",
      "execution_count": null,
      "metadata": {
        "colab": {
          "base_uri": "https://localhost:8080/"
        },
        "id": "IV-QURuilU6r",
        "outputId": "fcd78d62-5c5f-4bb6-f14a-0a3d0498b56f"
      },
      "outputs": [
        {
          "name": "stdout",
          "output_type": "stream",
          "text": [
            "Length of elements is:  558\n"
          ]
        },
        {
          "data": {
            "text/plain": [
              "[<unstructured.documents.elements.Title at 0x79a302f9bca0>,\n",
              " <unstructured.documents.elements.Title at 0x79a302b97280>,\n",
              " <unstructured.documents.elements.NarrativeText at 0x79a302b943d0>,\n",
              " <unstructured.documents.elements.NarrativeText at 0x79a302b97400>,\n",
              " <unstructured.documents.elements.Text at 0x79a303247f10>,\n",
              " <unstructured.documents.elements.NarrativeText at 0x79a3385ff400>,\n",
              " <unstructured.documents.elements.Title at 0x79a3385ffb50>,\n",
              " <unstructured.documents.elements.ListItem at 0x79a303051e70>,\n",
              " <unstructured.documents.elements.Title at 0x79a303052d70>,\n",
              " <unstructured.documents.elements.NarrativeText at 0x79a302b490c0>,\n",
              " <unstructured.documents.elements.Text at 0x79a302b49120>,\n",
              " <unstructured.documents.elements.ListItem at 0x79a302b49210>,\n",
              " <unstructured.documents.elements.ListItem at 0x79a302b49330>,\n",
              " <unstructured.documents.elements.NarrativeText at 0x79a302b49810>,\n",
              " <unstructured.documents.elements.NarrativeText at 0x79a302b48a30>,\n",
              " <unstructured.documents.elements.ListItem at 0x79a302b49600>,\n",
              " <unstructured.documents.elements.ListItem at 0x79a302b48340>,\n",
              " <unstructured.documents.elements.NarrativeText at 0x79a302b4b9a0>,\n",
              " <unstructured.documents.elements.NarrativeText at 0x79a302b4b910>,\n",
              " <unstructured.documents.elements.ListItem at 0x79a302b4b820>,\n",
              " <unstructured.documents.elements.NarrativeText at 0x79a302b4ba30>,\n",
              " <unstructured.documents.elements.Title at 0x79a302b48580>,\n",
              " <unstructured.documents.elements.NarrativeText at 0x79a302b48f40>,\n",
              " <unstructured.documents.elements.NarrativeText at 0x79a302b48d90>,\n",
              " <unstructured.documents.elements.NarrativeText at 0x79a302b48df0>,\n",
              " <unstructured.documents.elements.Title at 0x79a302b48b50>,\n",
              " <unstructured.documents.elements.ListItem at 0x79a302b48e20>,\n",
              " <unstructured.documents.elements.NarrativeText at 0x79a302b481f0>,\n",
              " <unstructured.documents.elements.Title at 0x79a302b48fd0>,\n",
              " <unstructured.documents.elements.NarrativeText at 0x79a302b49870>,\n",
              " <unstructured.documents.elements.ListItem at 0x79a302b495a0>,\n",
              " <unstructured.documents.elements.NarrativeText at 0x79a302b48f10>,\n",
              " <unstructured.documents.elements.NarrativeText at 0x79a302e2bf40>,\n",
              " <unstructured.documents.elements.Title at 0x79a302cd3a90>,\n",
              " <unstructured.documents.elements.NarrativeText at 0x79a30908aaa0>,\n",
              " <unstructured.documents.elements.Title at 0x79a30908ae30>,\n",
              " <unstructured.documents.elements.NarrativeText at 0x79a302b12d10>,\n",
              " <unstructured.documents.elements.Title at 0x79a30908a0e0>,\n",
              " <unstructured.documents.elements.ListItem at 0x79a303129960>,\n",
              " <unstructured.documents.elements.NarrativeText at 0x79a3032c56f0>,\n",
              " <unstructured.documents.elements.Title at 0x79a3032c6620>,\n",
              " <unstructured.documents.elements.ListItem at 0x79a3032c55d0>,\n",
              " <unstructured.documents.elements.NarrativeText at 0x79a3032c5e10>,\n",
              " <unstructured.documents.elements.NarrativeText at 0x79a3032c7580>,\n",
              " <unstructured.documents.elements.ListItem at 0x79a3032c5cc0>,\n",
              " <unstructured.documents.elements.NarrativeText at 0x79a3032c55a0>,\n",
              " <unstructured.documents.elements.NarrativeText at 0x79a302f6d960>,\n",
              " <unstructured.documents.elements.NarrativeText at 0x79a3032c4a30>,\n",
              " <unstructured.documents.elements.ListItem at 0x79a3032c4700>,\n",
              " <unstructured.documents.elements.Title at 0x79a3032c4310>,\n",
              " <unstructured.documents.elements.Title at 0x79a303101b70>,\n",
              " <unstructured.documents.elements.ListItem at 0x79a303100160>,\n",
              " <unstructured.documents.elements.NarrativeText at 0x79a3031000a0>,\n",
              " <unstructured.documents.elements.Title at 0x79a302f6c4f0>,\n",
              " <unstructured.documents.elements.ListItem at 0x79a303100f70>,\n",
              " <unstructured.documents.elements.NarrativeText at 0x79a303101210>,\n",
              " <unstructured.documents.elements.NarrativeText at 0x79a303101780>,\n",
              " <unstructured.documents.elements.Title at 0x79a303101870>,\n",
              " <unstructured.documents.elements.NarrativeText at 0x79a303101510>,\n",
              " <unstructured.documents.elements.Title at 0x79a303100730>,\n",
              " <unstructured.documents.elements.Title at 0x79a303101600>,\n",
              " <unstructured.documents.elements.NarrativeText at 0x79a303100e20>,\n",
              " <unstructured.documents.elements.NarrativeText at 0x79a303100b50>,\n",
              " <unstructured.documents.elements.NarrativeText at 0x79a3031005b0>,\n",
              " <unstructured.documents.elements.Title at 0x79a303100280>,\n",
              " <unstructured.documents.elements.ListItem at 0x79a3031014b0>,\n",
              " <unstructured.documents.elements.ListItem at 0x79a303100610>,\n",
              " <unstructured.documents.elements.NarrativeText at 0x79a303100d60>,\n",
              " <unstructured.documents.elements.Title at 0x79a303101570>,\n",
              " <unstructured.documents.elements.ListItem at 0x79a303100250>,\n",
              " <unstructured.documents.elements.NarrativeText at 0x79a302bab760>,\n",
              " <unstructured.documents.elements.ListItem at 0x79a303100af0>,\n",
              " <unstructured.documents.elements.ListItem at 0x79a3030fd780>,\n",
              " <unstructured.documents.elements.Title at 0x79a303100640>,\n",
              " <unstructured.documents.elements.Title at 0x79a302f6c0d0>,\n",
              " <unstructured.documents.elements.ListItem at 0x79a303100670>,\n",
              " <unstructured.documents.elements.NarrativeText at 0x79a302f6cca0>,\n",
              " <unstructured.documents.elements.Title at 0x79a3030fd570>,\n",
              " <unstructured.documents.elements.NarrativeText at 0x79a302f6f0a0>,\n",
              " <unstructured.documents.elements.Title at 0x79a302b952d0>,\n",
              " <unstructured.documents.elements.NarrativeText at 0x79a302b95000>,\n",
              " <unstructured.documents.elements.NarrativeText at 0x79a302b951e0>,\n",
              " <unstructured.documents.elements.NarrativeText at 0x79a302b94ca0>,\n",
              " <unstructured.documents.elements.Title at 0x79a302f6f790>,\n",
              " <unstructured.documents.elements.ListItem at 0x79a302b95180>,\n",
              " <unstructured.documents.elements.ListItem at 0x79a302b947c0>,\n",
              " <unstructured.documents.elements.ListItem at 0x79a302b97250>,\n",
              " <unstructured.documents.elements.NarrativeText at 0x79a302b97580>,\n",
              " <unstructured.documents.elements.Title at 0x79a302b94b20>,\n",
              " <unstructured.documents.elements.Title at 0x79a31c7dd7b0>,\n",
              " <unstructured.documents.elements.ListItem at 0x79a3032c74c0>,\n",
              " <unstructured.documents.elements.NarrativeText at 0x79a30305d300>,\n",
              " <unstructured.documents.elements.ListItem at 0x79a30305dae0>,\n",
              " <unstructured.documents.elements.Title at 0x79a302b949d0>,\n",
              " <unstructured.documents.elements.ListItem at 0x79a303109c00>,\n",
              " <unstructured.documents.elements.NarrativeText at 0x79a302bf6fe0>,\n",
              " <unstructured.documents.elements.ListItem at 0x79a302f3a920>,\n",
              " <unstructured.documents.elements.ListItem at 0x79a302f380d0>,\n",
              " <unstructured.documents.elements.NarrativeText at 0x79a302f3be20>,\n",
              " <unstructured.documents.elements.NarrativeText at 0x79a302f3b670>,\n",
              " <unstructured.documents.elements.NarrativeText at 0x79a3030b71f0>,\n",
              " <unstructured.documents.elements.Title at 0x79a30282b3a0>,\n",
              " <unstructured.documents.elements.NarrativeText at 0x79a302f38b50>,\n",
              " <unstructured.documents.elements.NarrativeText at 0x79a302f382e0>,\n",
              " <unstructured.documents.elements.Title at 0x79a30312bc70>,\n",
              " <unstructured.documents.elements.NarrativeText at 0x79a303129f00>,\n",
              " <unstructured.documents.elements.Title at 0x79a30312a1d0>,\n",
              " <unstructured.documents.elements.NarrativeText at 0x79a303128f40>,\n",
              " <unstructured.documents.elements.Title at 0x79a303128100>,\n",
              " <unstructured.documents.elements.Title at 0x79a30312a8c0>,\n",
              " <unstructured.documents.elements.NarrativeText at 0x79a30312bd00>,\n",
              " <unstructured.documents.elements.Title at 0x79a303128df0>,\n",
              " <unstructured.documents.elements.ListItem at 0x79a302f03580>,\n",
              " <unstructured.documents.elements.Title at 0x79a302f00fd0>,\n",
              " <unstructured.documents.elements.Title at 0x79a302f030a0>,\n",
              " <unstructured.documents.elements.ListItem at 0x79a302f003d0>,\n",
              " <unstructured.documents.elements.NarrativeText at 0x79a302f01cf0>,\n",
              " <unstructured.documents.elements.ListItem at 0x79a302f03160>,\n",
              " <unstructured.documents.elements.NarrativeText at 0x79a31c5e1a50>,\n",
              " <unstructured.documents.elements.Title at 0x79a302f020b0>,\n",
              " <unstructured.documents.elements.NarrativeText at 0x79a31c7dcc70>,\n",
              " <unstructured.documents.elements.NarrativeText at 0x79a302e35060>,\n",
              " <unstructured.documents.elements.Title at 0x79a302e36710>,\n",
              " <unstructured.documents.elements.Title at 0x79a302e34250>,\n",
              " <unstructured.documents.elements.ListItem at 0x79a302e37af0>,\n",
              " <unstructured.documents.elements.ListItem at 0x79a302e34ee0>,\n",
              " <unstructured.documents.elements.Title at 0x79a302e37670>,\n",
              " <unstructured.documents.elements.ListItem at 0x79a302e37f70>,\n",
              " <unstructured.documents.elements.NarrativeText at 0x79a302e34130>,\n",
              " <unstructured.documents.elements.ListItem at 0x79a302e355a0>,\n",
              " <unstructured.documents.elements.NarrativeText at 0x79a302e35540>,\n",
              " <unstructured.documents.elements.Title at 0x79a302e37100>,\n",
              " <unstructured.documents.elements.ListItem at 0x79a31c25c7c0>,\n",
              " <unstructured.documents.elements.NarrativeText at 0x79a31c25fca0>,\n",
              " <unstructured.documents.elements.NarrativeText at 0x79a31c25c910>,\n",
              " <unstructured.documents.elements.ListItem at 0x79a31c25c280>,\n",
              " <unstructured.documents.elements.NarrativeText at 0x79a302c91810>,\n",
              " <unstructured.documents.elements.NarrativeText at 0x79a302c92dd0>,\n",
              " <unstructured.documents.elements.ListItem at 0x79a302c91750>,\n",
              " <unstructured.documents.elements.Title at 0x79a302c935b0>,\n",
              " <unstructured.documents.elements.Title at 0x79a302c911b0>,\n",
              " <unstructured.documents.elements.Title at 0x79a302c93a30>,\n",
              " <unstructured.documents.elements.NarrativeText at 0x79a302c93250>,\n",
              " <unstructured.documents.elements.Title at 0x79a302c91bd0>,\n",
              " <unstructured.documents.elements.NarrativeText at 0x79a302c929b0>,\n",
              " <unstructured.documents.elements.Title at 0x79a302c934f0>,\n",
              " <unstructured.documents.elements.ListItem at 0x79a302c90b50>,\n",
              " <unstructured.documents.elements.Title at 0x79a302c91720>,\n",
              " <unstructured.documents.elements.NarrativeText at 0x79a302c91690>,\n",
              " <unstructured.documents.elements.NarrativeText at 0x79a30282ada0>,\n",
              " <unstructured.documents.elements.NarrativeText at 0x79a302829570>,\n",
              " <unstructured.documents.elements.ListItem at 0x79a302c93af0>,\n",
              " <unstructured.documents.elements.NarrativeText at 0x79a302c914b0>,\n",
              " <unstructured.documents.elements.ListItem at 0x79a302c92560>,\n",
              " <unstructured.documents.elements.Title at 0x79a302c93be0>,\n",
              " <unstructured.documents.elements.ListItem at 0x79a303020df0>,\n",
              " <unstructured.documents.elements.NarrativeText at 0x79a303023190>,\n",
              " <unstructured.documents.elements.Title at 0x79a303023a90>,\n",
              " <unstructured.documents.elements.ListItem at 0x79a303020be0>,\n",
              " <unstructured.documents.elements.NarrativeText at 0x79a303020850>,\n",
              " <unstructured.documents.elements.NarrativeText at 0x79a3030222f0>,\n",
              " <unstructured.documents.elements.Title at 0x79a303022e60>,\n",
              " <unstructured.documents.elements.Title at 0x79a302c79990>,\n",
              " <unstructured.documents.elements.Title at 0x79a302c7b9a0>,\n",
              " <unstructured.documents.elements.NarrativeText at 0x79a302c7b0d0>,\n",
              " <unstructured.documents.elements.Title at 0x79a302c7ba90>,\n",
              " <unstructured.documents.elements.ListItem at 0x79a302c7b0a0>,\n",
              " <unstructured.documents.elements.ListItem at 0x79a302c7b040>,\n",
              " <unstructured.documents.elements.NarrativeText at 0x79a302c78df0>,\n",
              " <unstructured.documents.elements.Title at 0x79a302c78700>,\n",
              " <unstructured.documents.elements.ListItem at 0x79a302c7a890>,\n",
              " <unstructured.documents.elements.NarrativeText at 0x79a302c78d30>,\n",
              " <unstructured.documents.elements.NarrativeText at 0x79a302c7b160>,\n",
              " <unstructured.documents.elements.Title at 0x79a302c7b010>,\n",
              " <unstructured.documents.elements.ListItem at 0x79a302c78790>,\n",
              " <unstructured.documents.elements.ListItem at 0x79a302c7a800>,\n",
              " <unstructured.documents.elements.ListItem at 0x79a302c7be80>,\n",
              " <unstructured.documents.elements.ListItem at 0x79a302c7a020>,\n",
              " <unstructured.documents.elements.Title at 0x79a302c78040>,\n",
              " <unstructured.documents.elements.ListItem at 0x79a302c78130>,\n",
              " <unstructured.documents.elements.Title at 0x79a303132200>,\n",
              " <unstructured.documents.elements.ListItem at 0x79a302c7b4c0>,\n",
              " <unstructured.documents.elements.Title at 0x79a302c78340>,\n",
              " <unstructured.documents.elements.Title at 0x79a302aa04f0>,\n",
              " <unstructured.documents.elements.Title at 0x79a302c923b0>,\n",
              " <unstructured.documents.elements.NarrativeText at 0x79a302bdfa30>,\n",
              " <unstructured.documents.elements.Title at 0x79a302bde860>,\n",
              " <unstructured.documents.elements.ListItem at 0x79a302bde7a0>,\n",
              " <unstructured.documents.elements.NarrativeText at 0x79a302bdda20>,\n",
              " <unstructured.documents.elements.NarrativeText at 0x79a302bdd8d0>,\n",
              " <unstructured.documents.elements.NarrativeText at 0x79a302bdc0d0>,\n",
              " <unstructured.documents.elements.Title at 0x79a302bde6e0>,\n",
              " <unstructured.documents.elements.ListItem at 0x79a302bde9b0>,\n",
              " <unstructured.documents.elements.NarrativeText at 0x79a302bdd510>,\n",
              " <unstructured.documents.elements.Text at 0x79a302bdded0>,\n",
              " <unstructured.documents.elements.ListItem at 0x79a302bdd6c0>,\n",
              " <unstructured.documents.elements.NarrativeText at 0x79a302bdd720>,\n",
              " <unstructured.documents.elements.ListItem at 0x79a302bdefe0>,\n",
              " <unstructured.documents.elements.NarrativeText at 0x79a302bdfaf0>,\n",
              " <unstructured.documents.elements.Title at 0x79a302bdd5d0>,\n",
              " <unstructured.documents.elements.Title at 0x79a302bdc160>,\n",
              " <unstructured.documents.elements.NarrativeText at 0x79a302bdef50>,\n",
              " <unstructured.documents.elements.ListItem at 0x79a302bde4a0>,\n",
              " <unstructured.documents.elements.NarrativeText at 0x79a302bde0e0>,\n",
              " <unstructured.documents.elements.Title at 0x79a302bdf700>,\n",
              " <unstructured.documents.elements.ListItem at 0x79a302bdfcd0>,\n",
              " <unstructured.documents.elements.ListItem at 0x79a302bdea70>,\n",
              " <unstructured.documents.elements.NarrativeText at 0x79a302bdd3c0>,\n",
              " <unstructured.documents.elements.ListItem at 0x79a302bdc4f0>,\n",
              " <unstructured.documents.elements.Title at 0x79a30282e3e0>,\n",
              " <unstructured.documents.elements.ListItem at 0x79a302bdc1c0>,\n",
              " <unstructured.documents.elements.NarrativeText at 0x79a302bdc850>,\n",
              " <unstructured.documents.elements.ListItem at 0x79a302bdfd60>,\n",
              " <unstructured.documents.elements.NarrativeText at 0x79a302bdfdc0>,\n",
              " <unstructured.documents.elements.ListItem at 0x79a302bdf430>,\n",
              " <unstructured.documents.elements.NarrativeText at 0x79a302bddff0>,\n",
              " <unstructured.documents.elements.Text at 0x79a302bdcdf0>,\n",
              " <unstructured.documents.elements.Title at 0x79a302bdc5e0>,\n",
              " <unstructured.documents.elements.Title at 0x79a302f01c00>,\n",
              " <unstructured.documents.elements.Title at 0x79a302f03d00>,\n",
              " <unstructured.documents.elements.NarrativeText at 0x79a302f000a0>,\n",
              " <unstructured.documents.elements.Title at 0x79a302f03f70>,\n",
              " <unstructured.documents.elements.ListItem at 0x79a302f03ac0>,\n",
              " <unstructured.documents.elements.Title at 0x79a302f025c0>,\n",
              " <unstructured.documents.elements.NarrativeText at 0x79a302f021a0>,\n",
              " <unstructured.documents.elements.Title at 0x79a302f02440>,\n",
              " <unstructured.documents.elements.NarrativeText at 0x79a302f02830>,\n",
              " <unstructured.documents.elements.NarrativeText at 0x79a302c08bb0>,\n",
              " <unstructured.documents.elements.Title at 0x79a302f017e0>,\n",
              " <unstructured.documents.elements.NarrativeText at 0x79a302f03250>,\n",
              " <unstructured.documents.elements.ListItem at 0x79a302bf6a40>,\n",
              " <unstructured.documents.elements.ListItem at 0x79a302d61330>,\n",
              " <unstructured.documents.elements.Title at 0x79a302d61120>,\n",
              " <unstructured.documents.elements.NarrativeText at 0x79a302f00a60>,\n",
              " <unstructured.documents.elements.NarrativeText at 0x79a30282d360>,\n",
              " <unstructured.documents.elements.ListItem at 0x79a302d61690>,\n",
              " <unstructured.documents.elements.ListItem at 0x79a302d63e80>,\n",
              " <unstructured.documents.elements.NarrativeText at 0x79a302d60790>,\n",
              " <unstructured.documents.elements.Title at 0x79a302d63c10>,\n",
              " <unstructured.documents.elements.ListItem at 0x79a302d62530>,\n",
              " <unstructured.documents.elements.Title at 0x79a302d63820>,\n",
              " <unstructured.documents.elements.ListItem at 0x79a30908a650>,\n",
              " <unstructured.documents.elements.ListItem at 0x79a302c0a140>,\n",
              " <unstructured.documents.elements.NarrativeText at 0x79a302c0b1c0>,\n",
              " <unstructured.documents.elements.Title at 0x79a3383c7850>,\n",
              " <unstructured.documents.elements.ListItem at 0x79a30282dff0>,\n",
              " <unstructured.documents.elements.ListItem at 0x79a302c0a320>,\n",
              " <unstructured.documents.elements.Title at 0x79a302d107c0>,\n",
              " <unstructured.documents.elements.ListItem at 0x79a302c0ae30>,\n",
              " <unstructured.documents.elements.Title at 0x79a302c0a620>,\n",
              " <unstructured.documents.elements.ListItem at 0x79a302c0b070>,\n",
              " <unstructured.documents.elements.NarrativeText at 0x79a302c0bd00>,\n",
              " <unstructured.documents.elements.Title at 0x79a302c08e20>,\n",
              " <unstructured.documents.elements.NarrativeText at 0x79a302c0b8e0>,\n",
              " <unstructured.documents.elements.ListItem at 0x79a302c098a0>,\n",
              " <unstructured.documents.elements.NarrativeText at 0x79a302c09780>,\n",
              " <unstructured.documents.elements.NarrativeText at 0x79a302c095d0>,\n",
              " <unstructured.documents.elements.NarrativeText at 0x79a302c09600>,\n",
              " <unstructured.documents.elements.NarrativeText at 0x79a302c0af50>,\n",
              " <unstructured.documents.elements.Title at 0x79a302c096c0>,\n",
              " <unstructured.documents.elements.ListItem at 0x79a302c0a650>,\n",
              " <unstructured.documents.elements.NarrativeText at 0x79a302c0ad10>,\n",
              " <unstructured.documents.elements.Title at 0x79a302c0ad70>,\n",
              " <unstructured.documents.elements.NarrativeText at 0x79a302f3b0d0>,\n",
              " <unstructured.documents.elements.ListItem at 0x79a302c0b550>,\n",
              " <unstructured.documents.elements.NarrativeText at 0x79a302c09480>,\n",
              " <unstructured.documents.elements.Title at 0x79a302c0b280>,\n",
              " <unstructured.documents.elements.ListItem at 0x79a302c0b460>,\n",
              " <unstructured.documents.elements.Title at 0x79a302c098d0>,\n",
              " <unstructured.documents.elements.Title at 0x79a302c0a7d0>,\n",
              " <unstructured.documents.elements.NarrativeText at 0x79a3030fdff0>,\n",
              " <unstructured.documents.elements.Title at 0x79a3030feb00>,\n",
              " <unstructured.documents.elements.ListItem at 0x79a3030fd510>,\n",
              " <unstructured.documents.elements.ListItem at 0x79a3030fd990>,\n",
              " <unstructured.documents.elements.NarrativeText at 0x79a3030fc0a0>,\n",
              " <unstructured.documents.elements.ListItem at 0x79a3030ffdc0>,\n",
              " <unstructured.documents.elements.NarrativeText at 0x79a3030fc940>,\n",
              " <unstructured.documents.elements.NarrativeText at 0x79a3030fdc30>,\n",
              " <unstructured.documents.elements.NarrativeText at 0x79a3030fe230>,\n",
              " <unstructured.documents.elements.NarrativeText at 0x79a31e2c8760>,\n",
              " <unstructured.documents.elements.Title at 0x79a3030fe7a0>,\n",
              " <unstructured.documents.elements.Text at 0x79a302cafee0>,\n",
              " <unstructured.documents.elements.Title at 0x79a302cac580>,\n",
              " <unstructured.documents.elements.ListItem at 0x79a302caec50>,\n",
              " <unstructured.documents.elements.NarrativeText at 0x79a302cac8b0>,\n",
              " <unstructured.documents.elements.NarrativeText at 0x79a302cae7a0>,\n",
              " <unstructured.documents.elements.ListItem at 0x79a302caf430>,\n",
              " <unstructured.documents.elements.NarrativeText at 0x79a302cae440>,\n",
              " <unstructured.documents.elements.Title at 0x79a302cae4d0>,\n",
              " <unstructured.documents.elements.Title at 0x79a302cae3b0>,\n",
              " <unstructured.documents.elements.ListItem at 0x79a302cae1d0>,\n",
              " <unstructured.documents.elements.ListItem at 0x79a302caead0>,\n",
              " <unstructured.documents.elements.NarrativeText at 0x79a302caee90>,\n",
              " <unstructured.documents.elements.ListItem at 0x79a302cad360>,\n",
              " <unstructured.documents.elements.NarrativeText at 0x79a302caf670>,\n",
              " <unstructured.documents.elements.Title at 0x79a302cac4f0>,\n",
              " <unstructured.documents.elements.ListItem at 0x79a302cacb80>,\n",
              " <unstructured.documents.elements.Title at 0x79a302cacac0>,\n",
              " <unstructured.documents.elements.ListItem at 0x79a302cacfa0>,\n",
              " <unstructured.documents.elements.Title at 0x79a302caf160>,\n",
              " <unstructured.documents.elements.ListItem at 0x79a302caee00>,\n",
              " <unstructured.documents.elements.Title at 0x79a302caef80>,\n",
              " <unstructured.documents.elements.NarrativeText at 0x79a302cade70>,\n",
              " <unstructured.documents.elements.Title at 0x79a302caebf0>,\n",
              " <unstructured.documents.elements.Title at 0x79a302cafeb0>,\n",
              " <unstructured.documents.elements.ListItem at 0x79a302cafcd0>,\n",
              " <unstructured.documents.elements.Title at 0x79a302cac4c0>,\n",
              " <unstructured.documents.elements.ListItem at 0x79a302cac1f0>,\n",
              " <unstructured.documents.elements.NarrativeText at 0x79a302caf220>,\n",
              " <unstructured.documents.elements.Title at 0x79a302cafbb0>,\n",
              " <unstructured.documents.elements.ListItem at 0x79a302caee60>,\n",
              " <unstructured.documents.elements.Title at 0x79a302caf970>,\n",
              " <unstructured.documents.elements.Title at 0x79a302b35900>,\n",
              " <unstructured.documents.elements.NarrativeText at 0x79a302b35780>,\n",
              " <unstructured.documents.elements.ListItem at 0x79a302b358d0>,\n",
              " <unstructured.documents.elements.Title at 0x79a302b35990>,\n",
              " <unstructured.documents.elements.ListItem at 0x79a302af4820>,\n",
              " <unstructured.documents.elements.NarrativeText at 0x79a302bd5e70>,\n",
              " <unstructured.documents.elements.NarrativeText at 0x79a302af7cd0>,\n",
              " <unstructured.documents.elements.Title at 0x79a31c59ab90>,\n",
              " <unstructured.documents.elements.Title at 0x79a3030520b0>,\n",
              " <unstructured.documents.elements.ListItem at 0x79a303052320>,\n",
              " <unstructured.documents.elements.ListItem at 0x79a302b4ae30>,\n",
              " <unstructured.documents.elements.NarrativeText at 0x79a302b4b070>,\n",
              " <unstructured.documents.elements.NarrativeText at 0x79a302b4b100>,\n",
              " <unstructured.documents.elements.Title at 0x79a302b4af50>,\n",
              " <unstructured.documents.elements.Title at 0x79a302ccba60>,\n",
              " <unstructured.documents.elements.ListItem at 0x79a302cc9270>,\n",
              " <unstructured.documents.elements.ListItem at 0x79a302cc9c00>,\n",
              " <unstructured.documents.elements.ListItem at 0x79a302cc8bb0>,\n",
              " <unstructured.documents.elements.NarrativeText at 0x79a302ccae00>,\n",
              " <unstructured.documents.elements.Title at 0x79a302cc8910>,\n",
              " <unstructured.documents.elements.NarrativeText at 0x79a302cca530>,\n",
              " <unstructured.documents.elements.Title at 0x79a302cc8dc0>,\n",
              " <unstructured.documents.elements.ListItem at 0x79a302cc8640>,\n",
              " <unstructured.documents.elements.NarrativeText at 0x79a302cc8f70>,\n",
              " <unstructured.documents.elements.NarrativeText at 0x79a302ccb190>,\n",
              " <unstructured.documents.elements.ListItem at 0x79a302cc8610>,\n",
              " <unstructured.documents.elements.NarrativeText at 0x79a302ccb8b0>,\n",
              " <unstructured.documents.elements.ListItem at 0x79a302ccbe50>,\n",
              " <unstructured.documents.elements.NarrativeText at 0x79a302ccbf10>,\n",
              " <unstructured.documents.elements.Title at 0x79a302ccb5e0>,\n",
              " <unstructured.documents.elements.ListItem at 0x79a302cc8fd0>,\n",
              " <unstructured.documents.elements.Title at 0x79a302cc9060>,\n",
              " <unstructured.documents.elements.Title at 0x79a302cc9ae0>,\n",
              " <unstructured.documents.elements.ListItem at 0x79a302cca800>,\n",
              " <unstructured.documents.elements.NarrativeText at 0x79a302cc9720>,\n",
              " <unstructured.documents.elements.Title at 0x79a302ccbe80>,\n",
              " <unstructured.documents.elements.Title at 0x79a302cc9e10>,\n",
              " <unstructured.documents.elements.ListItem at 0x79a302cc9a50>,\n",
              " <unstructured.documents.elements.NarrativeText at 0x79a302cc96c0>,\n",
              " <unstructured.documents.elements.ListItem at 0x79a302cc9ba0>,\n",
              " <unstructured.documents.elements.NarrativeText at 0x79a302ccbcd0>,\n",
              " <unstructured.documents.elements.ListItem at 0x79a302ccb460>,\n",
              " <unstructured.documents.elements.NarrativeText at 0x79a302ccb0a0>,\n",
              " <unstructured.documents.elements.NarrativeText at 0x79a302cc95a0>,\n",
              " <unstructured.documents.elements.NarrativeText at 0x79a302cc87c0>,\n",
              " <unstructured.documents.elements.Title at 0x79a302cc8ac0>,\n",
              " <unstructured.documents.elements.ListItem at 0x79a303246ef0>,\n",
              " <unstructured.documents.elements.NarrativeText at 0x79a303100fa0>,\n",
              " <unstructured.documents.elements.Title at 0x79a31c7dd480>,\n",
              " <unstructured.documents.elements.ListItem at 0x79a303246380>,\n",
              " <unstructured.documents.elements.NarrativeText at 0x79a303246950>,\n",
              " <unstructured.documents.elements.Title at 0x79a31c7c54e0>,\n",
              " <unstructured.documents.elements.Title at 0x79a31c7de8c0>,\n",
              " <unstructured.documents.elements.ListItem at 0x79a302bc0790>,\n",
              " <unstructured.documents.elements.NarrativeText at 0x79a302bc0490>,\n",
              " <unstructured.documents.elements.Title at 0x79a302bc0970>,\n",
              " <unstructured.documents.elements.Title at 0x79a303247fd0>,\n",
              " <unstructured.documents.elements.ListItem at 0x79a302bc07c0>,\n",
              " <unstructured.documents.elements.ListItem at 0x79a302bc28f0>,\n",
              " <unstructured.documents.elements.Title at 0x79a302bc2c20>,\n",
              " <unstructured.documents.elements.ListItem at 0x79a302bc33d0>,\n",
              " <unstructured.documents.elements.NarrativeText at 0x79a302bc3610>,\n",
              " <unstructured.documents.elements.Title at 0x79a302bc35b0>,\n",
              " <unstructured.documents.elements.Title at 0x79a302829fc0>,\n",
              " <unstructured.documents.elements.Title at 0x79a302b4ba00>,\n",
              " <unstructured.documents.elements.NarrativeText at 0x79a302e27400>,\n",
              " <unstructured.documents.elements.Title at 0x79a302e252a0>,\n",
              " <unstructured.documents.elements.ListItem at 0x79a302e27d60>,\n",
              " <unstructured.documents.elements.ListItem at 0x79a302e25a20>,\n",
              " <unstructured.documents.elements.NarrativeText at 0x79a302e26f80>,\n",
              " <unstructured.documents.elements.Title at 0x79a302e24ee0>,\n",
              " <unstructured.documents.elements.ListItem at 0x79a302e245b0>,\n",
              " <unstructured.documents.elements.NarrativeText at 0x79a302e276a0>,\n",
              " <unstructured.documents.elements.ListItem at 0x79a302e25990>,\n",
              " <unstructured.documents.elements.NarrativeText at 0x79a302e24670>,\n",
              " <unstructured.documents.elements.NarrativeText at 0x79a302b94b80>,\n",
              " <unstructured.documents.elements.NarrativeText at 0x79a302e273d0>,\n",
              " <unstructured.documents.elements.Title at 0x79a302e26e00>,\n",
              " <unstructured.documents.elements.ListItem at 0x79a302e242e0>,\n",
              " <unstructured.documents.elements.ListItem at 0x79a302e26ef0>,\n",
              " <unstructured.documents.elements.ListItem at 0x79a302e27e50>,\n",
              " <unstructured.documents.elements.NarrativeText at 0x79a302e27df0>,\n",
              " <unstructured.documents.elements.NarrativeText at 0x79a302e27a90>,\n",
              " <unstructured.documents.elements.ListItem at 0x79a302e257b0>,\n",
              " <unstructured.documents.elements.NarrativeText at 0x79a302e27ca0>,\n",
              " <unstructured.documents.elements.Title at 0x79a302e27760>,\n",
              " <unstructured.documents.elements.ListItem at 0x79a302e26950>,\n",
              " <unstructured.documents.elements.NarrativeText at 0x79a33b9f35b0>,\n",
              " <unstructured.documents.elements.NarrativeText at 0x79a302e25c60>,\n",
              " <unstructured.documents.elements.Title at 0x79a302f38700>,\n",
              " <unstructured.documents.elements.NarrativeText at 0x79a33b9f3370>,\n",
              " <unstructured.documents.elements.NarrativeText at 0x79a302817430>,\n",
              " <unstructured.documents.elements.Title at 0x79a31c88fb20>,\n",
              " <unstructured.documents.elements.NarrativeText at 0x79a31c88f070>,\n",
              " <unstructured.documents.elements.ListItem at 0x79a31c88e980>,\n",
              " <unstructured.documents.elements.NarrativeText at 0x79a33ba80730>,\n",
              " <unstructured.documents.elements.Title at 0x79a302ca1f90>,\n",
              " <unstructured.documents.elements.ListItem at 0x79a302ae0bb0>,\n",
              " <unstructured.documents.elements.NarrativeText at 0x79a302ae0a00>,\n",
              " <unstructured.documents.elements.ListItem at 0x79a302ae2350>,\n",
              " <unstructured.documents.elements.ListItem at 0x79a302ae04c0>,\n",
              " <unstructured.documents.elements.NarrativeText at 0x79a302ae0580>,\n",
              " <unstructured.documents.elements.NarrativeText at 0x79a302ae0820>,\n",
              " <unstructured.documents.elements.NarrativeText at 0x79a302ae0e80>,\n",
              " <unstructured.documents.elements.Title at 0x79a302ae2a70>,\n",
              " <unstructured.documents.elements.ListItem at 0x79a302ae0e20>,\n",
              " <unstructured.documents.elements.ListItem at 0x79a302ae0100>,\n",
              " <unstructured.documents.elements.ListItem at 0x79a302ae01c0>,\n",
              " <unstructured.documents.elements.NarrativeText at 0x79a302ae06d0>,\n",
              " <unstructured.documents.elements.Title at 0x79a302ae2e00>,\n",
              " <unstructured.documents.elements.ListItem at 0x79a302ae0190>,\n",
              " <unstructured.documents.elements.NarrativeText at 0x79a302ae1990>,\n",
              " <unstructured.documents.elements.NarrativeText at 0x79a302ae15d0>,\n",
              " <unstructured.documents.elements.Title at 0x79a302ae2590>,\n",
              " <unstructured.documents.elements.ListItem at 0x79a302c0beb0>,\n",
              " <unstructured.documents.elements.NarrativeText at 0x79a302c08730>,\n",
              " <unstructured.documents.elements.NarrativeText at 0x79a302f031c0>,\n",
              " <unstructured.documents.elements.ListItem at 0x79a302c09570>,\n",
              " <unstructured.documents.elements.ListItem at 0x79a302c08610>,\n",
              " <unstructured.documents.elements.NarrativeText at 0x79a302c0b0d0>,\n",
              " <unstructured.documents.elements.ListItem at 0x79a302c0bd60>,\n",
              " <unstructured.documents.elements.Title at 0x79a302c0a080>,\n",
              " <unstructured.documents.elements.Title at 0x79a33d3235b0>,\n",
              " <unstructured.documents.elements.ListItem at 0x79a33d323520>,\n",
              " <unstructured.documents.elements.NarrativeText at 0x79a302c080d0>,\n",
              " <unstructured.documents.elements.Title at 0x79a33d323910>,\n",
              " <unstructured.documents.elements.ListItem at 0x79a31c25ebf0>,\n",
              " <unstructured.documents.elements.ListItem at 0x79a31c25c2b0>,\n",
              " <unstructured.documents.elements.Title at 0x79a303179990>,\n",
              " <unstructured.documents.elements.Title at 0x79a30317be50>,\n",
              " <unstructured.documents.elements.ListItem at 0x79a303178eb0>,\n",
              " <unstructured.documents.elements.NarrativeText at 0x79a303179ba0>,\n",
              " <unstructured.documents.elements.ListItem at 0x79a3031799c0>,\n",
              " <unstructured.documents.elements.NarrativeText at 0x79a31c25e380>,\n",
              " <unstructured.documents.elements.NarrativeText at 0x79a30317b850>,\n",
              " <unstructured.documents.elements.NarrativeText at 0x79a303179ea0>,\n",
              " <unstructured.documents.elements.ListItem at 0x79a303179960>,\n",
              " <unstructured.documents.elements.NarrativeText at 0x79a303178130>,\n",
              " <unstructured.documents.elements.NarrativeText at 0x79a30317b2b0>,\n",
              " <unstructured.documents.elements.Title at 0x79a30317ae00>,\n",
              " <unstructured.documents.elements.ListItem at 0x79a30317b700>,\n",
              " <unstructured.documents.elements.NarrativeText at 0x79a3031799f0>,\n",
              " <unstructured.documents.elements.ListItem at 0x79a30317bb50>,\n",
              " <unstructured.documents.elements.Title at 0x79a30317b070>,\n",
              " <unstructured.documents.elements.ListItem at 0x79a303178e20>,\n",
              " <unstructured.documents.elements.Title at 0x79a303179660>,\n",
              " <unstructured.documents.elements.Title at 0x79a30317b820>,\n",
              " <unstructured.documents.elements.ListItem at 0x79a303178040>,\n",
              " <unstructured.documents.elements.NarrativeText at 0x79a3031786d0>,\n",
              " <unstructured.documents.elements.Title at 0x79a303179c30>,\n",
              " <unstructured.documents.elements.Title at 0x79a303179e10>,\n",
              " <unstructured.documents.elements.ListItem at 0x79a3031338e0>,\n",
              " <unstructured.documents.elements.NarrativeText at 0x79a303131450>,\n",
              " <unstructured.documents.elements.Title at 0x79a303133460>,\n",
              " <unstructured.documents.elements.NarrativeText at 0x79a303133340>,\n",
              " <unstructured.documents.elements.NarrativeText at 0x79a3031308e0>,\n",
              " <unstructured.documents.elements.NarrativeText at 0x79a303131d20>,\n",
              " <unstructured.documents.elements.ListItem at 0x79a303130af0>,\n",
              " <unstructured.documents.elements.Text at 0x79a303132500>,\n",
              " <unstructured.documents.elements.NarrativeText at 0x79a303133d60>,\n",
              " <unstructured.documents.elements.NarrativeText at 0x79a303131600>,\n",
              " <unstructured.documents.elements.Title at 0x79a31c7dec80>,\n",
              " <unstructured.documents.elements.NarrativeText at 0x79a303133910>,\n",
              " <unstructured.documents.elements.Title at 0x79a3031325f0>,\n",
              " <unstructured.documents.elements.ListItem at 0x79a302f09bd0>,\n",
              " <unstructured.documents.elements.Title at 0x79a302f0aa70>,\n",
              " <unstructured.documents.elements.ListItem at 0x79a302f0b5b0>,\n",
              " <unstructured.documents.elements.NarrativeText at 0x79a302f08490>,\n",
              " <unstructured.documents.elements.Title at 0x79a302f0a110>,\n",
              " <unstructured.documents.elements.ListItem at 0x79a302f0bfd0>,\n",
              " <unstructured.documents.elements.ListItem at 0x79a302f0af50>,\n",
              " <unstructured.documents.elements.ListItem at 0x79a302f09f00>,\n",
              " <unstructured.documents.elements.NarrativeText at 0x79a302f08f70>,\n",
              " <unstructured.documents.elements.Title at 0x79a302f0ba60>,\n",
              " <unstructured.documents.elements.ListItem at 0x79a302f0b850>,\n",
              " <unstructured.documents.elements.ListItem at 0x79a302f0a0e0>,\n",
              " <unstructured.documents.elements.NarrativeText at 0x79a302f0bc10>,\n",
              " <unstructured.documents.elements.Title at 0x79a302f08d30>,\n",
              " <unstructured.documents.elements.Title at 0x79a302f0abc0>,\n",
              " <unstructured.documents.elements.NarrativeText at 0x79a302f0bf40>,\n",
              " <unstructured.documents.elements.Title at 0x79a302f0ae90>,\n",
              " <unstructured.documents.elements.NarrativeText at 0x79a302c91db0>,\n",
              " <unstructured.documents.elements.NarrativeText at 0x79a302f016c0>,\n",
              " <unstructured.documents.elements.Title at 0x79a3382b9c00>,\n",
              " <unstructured.documents.elements.NarrativeText at 0x79a3382b8910>,\n",
              " <unstructured.documents.elements.Title at 0x79a3382b83a0>,\n",
              " <unstructured.documents.elements.Title at 0x79a3382b98a0>,\n",
              " <unstructured.documents.elements.NarrativeText at 0x79a3382b9960>,\n",
              " <unstructured.documents.elements.Title at 0x79a3382b9750>,\n",
              " <unstructured.documents.elements.NarrativeText at 0x79a302e34b20>,\n",
              " <unstructured.documents.elements.ListItem at 0x79a302e37910>,\n",
              " <unstructured.documents.elements.NarrativeText at 0x79a302e36d70>,\n",
              " <unstructured.documents.elements.NarrativeText at 0x79a302e370d0>,\n",
              " <unstructured.documents.elements.Title at 0x79a302e37550>,\n",
              " <unstructured.documents.elements.NarrativeText at 0x79a302e36860>,\n",
              " <unstructured.documents.elements.NarrativeText at 0x79a302e37130>,\n",
              " <unstructured.documents.elements.NarrativeText at 0x79a302e35f60>,\n",
              " <unstructured.documents.elements.NarrativeText at 0x79a302e34220>,\n",
              " <unstructured.documents.elements.Title at 0x79a302e36170>,\n",
              " <unstructured.documents.elements.ListItem at 0x79a302e36e00>,\n",
              " <unstructured.documents.elements.ListItem at 0x79a302e37b80>,\n",
              " <unstructured.documents.elements.NarrativeText at 0x79a302e34610>,\n",
              " <unstructured.documents.elements.ListItem at 0x79a302ef28f0>,\n",
              " <unstructured.documents.elements.ListItem at 0x79a302ef3670>,\n",
              " <unstructured.documents.elements.Text at 0x79a302ef3c40>,\n",
              " <unstructured.documents.elements.Title at 0x79a302ef37f0>,\n",
              " <unstructured.documents.elements.Title at 0x79a302ef2d70>,\n",
              " <unstructured.documents.elements.ListItem at 0x79a302ef0f70>,\n",
              " <unstructured.documents.elements.ListItem at 0x79a302ef27a0>,\n",
              " <unstructured.documents.elements.Title at 0x79a302ef2890>,\n",
              " <unstructured.documents.elements.ListItem at 0x79a302bdea10>,\n",
              " <unstructured.documents.elements.Title at 0x79a302bdf9a0>,\n",
              " <unstructured.documents.elements.ListItem at 0x79a302bdd1e0>,\n",
              " <unstructured.documents.elements.NarrativeText at 0x79a302bdd8a0>,\n",
              " <unstructured.documents.elements.NarrativeText at 0x79a302bdc250>,\n",
              " <unstructured.documents.elements.ListItem at 0x79a302bdd540>,\n",
              " <unstructured.documents.elements.Title at 0x79a302bdfa60>,\n",
              " <unstructured.documents.elements.ListItem at 0x79a302bde320>,\n",
              " <unstructured.documents.elements.NarrativeText at 0x79a302bdc430>,\n",
              " <unstructured.documents.elements.NarrativeText at 0x79a302bdf1c0>,\n",
              " <unstructured.documents.elements.Title at 0x79a302bdc2e0>,\n",
              " <unstructured.documents.elements.NarrativeText at 0x79a302bdc670>,\n",
              " <unstructured.documents.elements.Text at 0x79a302bdc3a0>,\n",
              " <unstructured.documents.elements.Text at 0x79a302bdd360>,\n",
              " <unstructured.documents.elements.Text at 0x79a302bdd2a0>,\n",
              " <unstructured.documents.elements.NarrativeText at 0x79a302bddb40>,\n",
              " <unstructured.documents.elements.NarrativeText at 0x79a302bddbd0>,\n",
              " <unstructured.documents.elements.NarrativeText at 0x79a302bdca60>,\n",
              " <unstructured.documents.elements.Title at 0x79a302bdca00>,\n",
              " <unstructured.documents.elements.ListItem at 0x79a302bdead0>,\n",
              " <unstructured.documents.elements.NarrativeText at 0x79a302f99e10>,\n",
              " <unstructured.documents.elements.NarrativeText at 0x79a302f9b220>,\n",
              " <unstructured.documents.elements.ListItem at 0x79a302f9b970>,\n",
              " <unstructured.documents.elements.Title at 0x79a302f9a3b0>,\n",
              " <unstructured.documents.elements.Title at 0x79a3381b19c0>,\n",
              " <unstructured.documents.elements.ListItem at 0x79a3381b1090>,\n",
              " <unstructured.documents.elements.NarrativeText at 0x79a3381b0c10>,\n",
              " <unstructured.documents.elements.Title at 0x79a3381b0ca0>,\n",
              " <unstructured.documents.elements.ListItem at 0x79a3381b1180>,\n",
              " <unstructured.documents.elements.NarrativeText at 0x79a3381b0dc0>,\n",
              " <unstructured.documents.elements.ListItem at 0x79a3381b2e00>,\n",
              " <unstructured.documents.elements.Title at 0x79a3030fd6f0>,\n",
              " <unstructured.documents.elements.NarrativeText at 0x79a3381b3d30>,\n",
              " <unstructured.documents.elements.NarrativeText at 0x79a3381b3910>,\n",
              " <unstructured.documents.elements.NarrativeText at 0x79a302fcb0a0>,\n",
              " <unstructured.documents.elements.Title at 0x79a302fc8880>]"
            ]
          },
          "execution_count": 63,
          "metadata": {},
          "output_type": "execute_result"
        }
      ],
      "source": [
        "print(\"Length of elements is: \",len(elements))\n",
        "elements"
      ]
    },
    {
      "cell_type": "code",
      "execution_count": null,
      "metadata": {
        "colab": {
          "base_uri": "https://localhost:8080/"
        },
        "id": "AqqCb-hslU9A",
        "outputId": "eda8e988-dda2-42fb-8970-adda4ed3b017"
      },
      "outputs": [
        {
          "name": "stdout",
          "output_type": "stream",
          "text": [
            "Length of elements is:  558\n"
          ]
        }
      ],
      "source": [
        "print(\"Length of elements is: \",len(elements))"
      ]
    },
    {
      "cell_type": "code",
      "execution_count": null,
      "metadata": {
        "id": "LwqYkh5slU_m"
      },
      "outputs": [],
      "source": []
    },
    {
      "cell_type": "markdown",
      "metadata": {
        "id": "F4HcAcnwxocB"
      },
      "source": [
        "## 3/Semantic Chunking"
      ]
    },
    {
      "cell_type": "code",
      "execution_count": null,
      "metadata": {
        "colab": {
          "base_uri": "https://localhost:8080/",
          "height": 173
        },
        "id": "B5A9sSaBlVB_",
        "outputId": "b7d556f6-8c71-40c5-c9b1-ce41d6459fd4"
      },
      "outputs": [
        {
          "ename": "FileNotFoundError",
          "evalue": "[Errno 2] No such file or directory: '/content/drive/MyDrive/Colab Notebooks/rag-with-chromadb/data/Technology at the Dawn of the 21st Century.txt'",
          "output_type": "error",
          "traceback": [
            "\u001b[0;31m---------------------------------------------------------------------------\u001b[0m",
            "\u001b[0;31mFileNotFoundError\u001b[0m                         Traceback (most recent call last)",
            "\u001b[0;32m<ipython-input-20-293fea6bcd55>\u001b[0m in \u001b[0;36m<cell line: 2>\u001b[0;34m()\u001b[0m\n\u001b[1;32m      1\u001b[0m \u001b[0mtext_file_path\u001b[0m \u001b[0;34m=\u001b[0m \u001b[0;34m\"/content/drive/MyDrive/Colab Notebooks/rag-with-chromadb/data/Technology at the Dawn of the 21st Century.txt\"\u001b[0m\u001b[0;34m\u001b[0m\u001b[0;34m\u001b[0m\u001b[0m\n\u001b[0;32m----> 2\u001b[0;31m \u001b[0;32mwith\u001b[0m \u001b[0mopen\u001b[0m\u001b[0;34m(\u001b[0m\u001b[0mtext_file_path\u001b[0m\u001b[0;34m)\u001b[0m \u001b[0;32mas\u001b[0m \u001b[0mfile\u001b[0m\u001b[0;34m:\u001b[0m\u001b[0;34m\u001b[0m\u001b[0;34m\u001b[0m\u001b[0m\n\u001b[0m\u001b[1;32m      3\u001b[0m     \u001b[0messay\u001b[0m \u001b[0;34m=\u001b[0m \u001b[0mfile\u001b[0m\u001b[0;34m.\u001b[0m\u001b[0mread\u001b[0m\u001b[0;34m(\u001b[0m\u001b[0;34m)\u001b[0m\u001b[0;34m\u001b[0m\u001b[0;34m\u001b[0m\u001b[0m\n",
            "\u001b[0;31mFileNotFoundError\u001b[0m: [Errno 2] No such file or directory: '/content/drive/MyDrive/Colab Notebooks/rag-with-chromadb/data/Technology at the Dawn of the 21st Century.txt'"
          ]
        }
      ],
      "source": [
        "text_file_path = \"/content/drive/MyDrive/Colab Notebooks/rag-with-chromadb/data/Technology at the Dawn of the 21st Century.txt\"\n",
        "with open(text_file_path) as file:\n",
        "    essay = file.read()"
      ]
    },
    {
      "cell_type": "code",
      "execution_count": null,
      "metadata": {
        "colab": {
          "base_uri": "https://localhost:8080/"
        },
        "id": "TekR_U6klVES",
        "outputId": "463abe38-a4f9-42ad-e268-ed702f82ae2f"
      },
      "outputs": [
        {
          "name": "stdout",
          "output_type": "stream",
          "text": [
            "24 senteneces were found\n"
          ]
        }
      ],
      "source": [
        "import re\n",
        "\n",
        "# Splitting the essay on '.', '?', and '!'\n",
        "single_sentences_list = re.split(r'(?<=[.?!])\\s+', essay)\n",
        "print (f\"{len(single_sentences_list)} senteneces were found\")"
      ]
    },
    {
      "cell_type": "code",
      "execution_count": null,
      "metadata": {
        "colab": {
          "base_uri": "https://localhost:8080/"
        },
        "id": "UVVKpKXdlVGb",
        "outputId": "362dc33a-b2ec-4072-e189-a05a42f1d993"
      },
      "outputs": [
        {
          "data": {
            "text/plain": [
              "[{'sentence': 'Title: Technology at the Dawn of the 21st Century\\n\\nAs the world crossed the threshold into the 21st century, the landscape of technology underwent a profound transformation, reshaping the way we live, work, and interact.',\n",
              "  'index': 0},\n",
              " {'sentence': 'This era marked a pivotal moment in human history, characterized by rapid advancements in various fields of technology, revolutionizing communication, transportation, healthcare, and more.',\n",
              "  'index': 1},\n",
              " {'sentence': 'In this essay, we will explore the technological landscape at the dawn of the 21st century and its profound impact on society.',\n",
              "  'index': 2}]"
            ]
          },
          "execution_count": 3,
          "metadata": {},
          "output_type": "execute_result"
        }
      ],
      "source": [
        "sentences = [{'sentence': x, 'index' : i} for i, x in enumerate(single_sentences_list)]\n",
        "sentences[:3]"
      ]
    },
    {
      "cell_type": "code",
      "execution_count": null,
      "metadata": {
        "colab": {
          "base_uri": "https://localhost:8080/"
        },
        "id": "98IBfAQUzhIB",
        "outputId": "0e1f3b06-462d-472e-d74a-01af0048c782"
      },
      "outputs": [
        {
          "data": {
            "text/plain": [
              "dict_keys(['sentence', 'index'])"
            ]
          },
          "execution_count": 90,
          "metadata": {},
          "output_type": "execute_result"
        }
      ],
      "source": [
        "sentences[0].keys()"
      ]
    },
    {
      "cell_type": "code",
      "execution_count": null,
      "metadata": {
        "id": "o7C00heNyQQ_"
      },
      "outputs": [],
      "source": [
        "def combine_sentences(sentences, buffer_size=1):\n",
        "    # Go through each sentence dict\n",
        "    for i in range(len(sentences)):\n",
        "\n",
        "        # Create a string that will hold the sentences which are joined\n",
        "        combined_sentence = ''\n",
        "\n",
        "        # Add sentences before the current one, based on the buffer size.\n",
        "        for j in range(i - buffer_size, i):\n",
        "            # Check if the index j is not negative (to avoid index out of range like on the first one)\n",
        "            if j >= 0:\n",
        "                # Add the sentence at index j to the combined_sentence string\n",
        "                combined_sentence += sentences[j]['sentence'] + ' '\n",
        "\n",
        "        # Add the current sentence\n",
        "        combined_sentence += sentences[i]['sentence']\n",
        "\n",
        "        # Add sentences after the current one, based on the buffer size\n",
        "        for j in range(i + 1, i + 1 + buffer_size):\n",
        "            # Check if the index j is within the range of the sentences list\n",
        "            if j < len(sentences):\n",
        "                # Add the sentence at index j to the combined_sentence string\n",
        "                combined_sentence += ' ' + sentences[j]['sentence']\n",
        "\n",
        "        # Then add the whole thing to your dict\n",
        "        # Store the combined sentence in the current sentence dict\n",
        "        sentences[i]['combined_sentence'] = combined_sentence\n",
        "\n",
        "    return sentences\n",
        "\n",
        "sentences = combine_sentences(sentences)"
      ]
    },
    {
      "cell_type": "code",
      "execution_count": null,
      "metadata": {
        "colab": {
          "base_uri": "https://localhost:8080/"
        },
        "id": "ICH6YYeHzmaQ",
        "outputId": "c8b47ab6-4b27-4150-f7ac-c18b0dda36a5"
      },
      "outputs": [
        {
          "data": {
            "text/plain": [
              "dict_keys(['sentence', 'index', 'combined_sentence'])"
            ]
          },
          "execution_count": 92,
          "metadata": {},
          "output_type": "execute_result"
        }
      ],
      "source": [
        "sentences[0].keys()"
      ]
    },
    {
      "cell_type": "code",
      "execution_count": null,
      "metadata": {
        "colab": {
          "base_uri": "https://localhost:8080/"
        },
        "id": "XbaGo6isyWYJ",
        "outputId": "f70ad0fb-f0f1-4579-fe03-cf2a5fe052b0"
      },
      "outputs": [
        {
          "data": {
            "text/plain": [
              "[{'sentence': 'Title: Technology at the Dawn of the 21st Century\\n\\nAs the world crossed the threshold into the 21st century, the landscape of technology underwent a profound transformation, reshaping the way we live, work, and interact.',\n",
              "  'index': 0,\n",
              "  'combined_sentence': 'Title: Technology at the Dawn of the 21st Century\\n\\nAs the world crossed the threshold into the 21st century, the landscape of technology underwent a profound transformation, reshaping the way we live, work, and interact. This era marked a pivotal moment in human history, characterized by rapid advancements in various fields of technology, revolutionizing communication, transportation, healthcare, and more.'},\n",
              " {'sentence': 'This era marked a pivotal moment in human history, characterized by rapid advancements in various fields of technology, revolutionizing communication, transportation, healthcare, and more.',\n",
              "  'index': 1,\n",
              "  'combined_sentence': 'Title: Technology at the Dawn of the 21st Century\\n\\nAs the world crossed the threshold into the 21st century, the landscape of technology underwent a profound transformation, reshaping the way we live, work, and interact. This era marked a pivotal moment in human history, characterized by rapid advancements in various fields of technology, revolutionizing communication, transportation, healthcare, and more. In this essay, we will explore the technological landscape at the dawn of the 21st century and its profound impact on society.'},\n",
              " {'sentence': 'In this essay, we will explore the technological landscape at the dawn of the 21st century and its profound impact on society.',\n",
              "  'index': 2,\n",
              "  'combined_sentence': 'This era marked a pivotal moment in human history, characterized by rapid advancements in various fields of technology, revolutionizing communication, transportation, healthcare, and more. In this essay, we will explore the technological landscape at the dawn of the 21st century and its profound impact on society. One of the most significant technological breakthroughs of the early 21st century was the widespread adoption of the internet.'}]"
            ]
          },
          "execution_count": 93,
          "metadata": {},
          "output_type": "execute_result"
        }
      ],
      "source": [
        "sentences[:3]"
      ]
    },
    {
      "cell_type": "code",
      "execution_count": null,
      "metadata": {
        "id": "pNfv6WOSyeU0"
      },
      "outputs": [],
      "source": [
        "import os\n",
        "\n",
        "os.environ['OPENAI_API_KEY'] = \"openai_api_key\"\n",
        "\n",
        "from langchain.embeddings import OpenAIEmbeddings\n",
        "oaiembeds = OpenAIEmbeddings()"
      ]
    },
    {
      "cell_type": "code",
      "execution_count": null,
      "metadata": {
        "id": "TX2QflV5y18v"
      },
      "outputs": [],
      "source": [
        "embeddings = oaiembeds.embed_documents([x['combined_sentence'] for x in sentences])"
      ]
    },
    {
      "cell_type": "code",
      "execution_count": null,
      "metadata": {
        "id": "2Fu_Qj0ly2Tt"
      },
      "outputs": [],
      "source": [
        "for i, sentence in enumerate(sentences):\n",
        "    sentence['combined_sentence_embedding'] = embeddings[i]"
      ]
    },
    {
      "cell_type": "code",
      "execution_count": null,
      "metadata": {
        "colab": {
          "base_uri": "https://localhost:8080/"
        },
        "id": "lv4pYyGby7Ze",
        "outputId": "0723528e-8eda-49ef-a5d4-138201f4f4f6"
      },
      "outputs": [
        {
          "data": {
            "text/plain": [
              "dict_keys(['sentence', 'index', 'combined_sentence', 'combined_sentence_embedding'])"
            ]
          },
          "execution_count": 98,
          "metadata": {},
          "output_type": "execute_result"
        }
      ],
      "source": [
        "sentences[0].keys()"
      ]
    },
    {
      "cell_type": "code",
      "execution_count": null,
      "metadata": {
        "id": "_sNovxvZzbU5"
      },
      "outputs": [],
      "source": [
        "from sklearn.metrics.pairwise import cosine_similarity\n",
        "\n",
        "def calculate_cosine_distances(sentences):\n",
        "    distances = []\n",
        "    for i in range(len(sentences) - 1):\n",
        "        embedding_current = sentences[i]['combined_sentence_embedding']\n",
        "        embedding_next = sentences[i + 1]['combined_sentence_embedding']\n",
        "\n",
        "        # Calculate cosine similarity\n",
        "        similarity = cosine_similarity([embedding_current], [embedding_next])[0][0]\n",
        "\n",
        "        # Convert to cosine distance\n",
        "        distance = 1 - similarity\n",
        "\n",
        "        # Append cosine distance to the list\n",
        "        distances.append(distance)\n",
        "\n",
        "        # Store distance in the dictionary\n",
        "        sentences[i]['distance_to_next'] = distance\n",
        "\n",
        "    # Optionally handle the last sentence\n",
        "    # sentences[-1]['distance_to_next'] = None  # or a default value\n",
        "\n",
        "    return distances, sentences"
      ]
    },
    {
      "cell_type": "code",
      "execution_count": null,
      "metadata": {
        "id": "bct8aC-yzcI1"
      },
      "outputs": [],
      "source": [
        "distances, sentences = calculate_cosine_distances(sentences)"
      ]
    },
    {
      "cell_type": "code",
      "execution_count": null,
      "metadata": {
        "colab": {
          "base_uri": "https://localhost:8080/"
        },
        "id": "gvR8n-Gdz26w",
        "outputId": "6c2d0597-698a-4b0b-d900-fbc35a650db5"
      },
      "outputs": [
        {
          "data": {
            "text/plain": [
              "[0.012218458391029086, 0.03420948942964297, 0.03242427127684777]"
            ]
          },
          "execution_count": 101,
          "metadata": {},
          "output_type": "execute_result"
        }
      ],
      "source": [
        "distances[:3]"
      ]
    },
    {
      "cell_type": "code",
      "execution_count": null,
      "metadata": {
        "colab": {
          "base_uri": "https://localhost:8080/",
          "height": 432
        },
        "id": "6JQpMeDbz5lJ",
        "outputId": "3ac6f6fc-10e5-48af-b051-a54832b39c2f"
      },
      "outputs": [
        {
          "data": {
            "image/png": "[encoded data removed]",
            "text/plain": [
              "<Figure size 640x480 with 1 Axes>"
            ]
          },
          "metadata": {},
          "output_type": "display_data"
        }
      ],
      "source": [
        "import matplotlib.pyplot as plt\n",
        "\n",
        "plt.plot(distances);"
      ]
    },
    {
      "cell_type": "code",
      "execution_count": null,
      "metadata": {
        "colab": {
          "base_uri": "https://localhost:8080/",
          "height": 472
        },
        "id": "hUReB9H3z87v",
        "outputId": "303ac01e-d312-487d-a33d-87b009916f32"
      },
      "outputs": [
        {
          "data": {
            "image/png": "[encoded data removed]",
            "text/plain": [
              "<Figure size 640x480 with 1 Axes>"
            ]
          },
          "metadata": {},
          "output_type": "display_data"
        }
      ],
      "source": [
        "import numpy as np\n",
        "\n",
        "plt.plot(distances);\n",
        "\n",
        "y_upper_bound = .2\n",
        "plt.ylim(0, y_upper_bound)\n",
        "plt.xlim(0, len(distances))\n",
        "\n",
        "# We need to get the distance threshold that we'll consider an outlier\n",
        "# We'll use numpy .percentile() for this\n",
        "breakpoint_percentile_threshold = 80\n",
        "breakpoint_distance_threshold = np.percentile(distances, breakpoint_percentile_threshold) # If you want more chunks, lower the percentile cutoff\n",
        "plt.axhline(y=breakpoint_distance_threshold, color='r', linestyle='-');\n",
        "\n",
        "# Then we'll see how many distances are actually above this one\n",
        "num_distances_above_theshold = len([x for x in distances if x > breakpoint_distance_threshold]) # The amount of distances above your threshold\n",
        "plt.text(x=(len(distances)*.01), y=y_upper_bound/50, s=f\"{num_distances_above_theshold + 1} Chunks\");\n",
        "\n",
        "# Then we'll get the index of the distances that are above the threshold. This will tell us where we should split our text\n",
        "indices_above_thresh = [i for i, x in enumerate(distances) if x > breakpoint_distance_threshold] # The indices of those breakpoints on your list\n",
        "\n",
        "# Start of the shading and text\n",
        "colors = ['b', 'g', 'r', 'c', 'm', 'y', 'k']\n",
        "for i, breakpoint_index in enumerate(indices_above_thresh):\n",
        "    start_index = 0 if i == 0 else indices_above_thresh[i - 1]\n",
        "    end_index = breakpoint_index if i < len(indices_above_thresh) - 1 else len(distances)\n",
        "\n",
        "    plt.axvspan(start_index, end_index, facecolor=colors[i % len(colors)], alpha=0.25)\n",
        "    plt.text(x=np.average([start_index, end_index]),\n",
        "             y=breakpoint_distance_threshold + (y_upper_bound)/ 20,\n",
        "             s=f\"Chunk #{i}\", horizontalalignment='center',\n",
        "             rotation='vertical')\n",
        "\n",
        "# # Additional step to shade from the last breakpoint to the end of the dataset\n",
        "if indices_above_thresh:\n",
        "    last_breakpoint = indices_above_thresh[-1]\n",
        "    if last_breakpoint < len(distances):\n",
        "        plt.axvspan(last_breakpoint, len(distances), facecolor=colors[len(indices_above_thresh) % len(colors)], alpha=0.25)\n",
        "        plt.text(x=np.average([last_breakpoint, len(distances)]),\n",
        "                 y=breakpoint_distance_threshold + (y_upper_bound)/ 20,\n",
        "                 s=f\"Chunk #{i+1}\",\n",
        "                 rotation='vertical')\n",
        "\n",
        "plt.title(\"PG Essay Chunks Based On Embedding Breakpoints\")\n",
        "plt.xlabel(f\"Index of sentences in essay (Sentence Position) - percentile:{breakpoint_percentile_threshold}\")\n",
        "plt.ylabel(\"Cosine distance between sequential sentences\")\n",
        "plt.show()"
      ]
    },
    {
      "cell_type": "code",
      "execution_count": null,
      "metadata": {
        "id": "xfSeaYfn0InL"
      },
      "outputs": [],
      "source": [
        "# Initialize the start index\n",
        "start_index = 0\n",
        "\n",
        "# Create a list to hold the grouped sentences\n",
        "chunks = []\n",
        "\n",
        "# Iterate through the breakpoints to slice the sentences\n",
        "for index in indices_above_thresh:\n",
        "    # The end index is the current breakpoint\n",
        "    end_index = index\n",
        "\n",
        "    # Slice the sentence_dicts from the current start index to the end index\n",
        "    group = sentences[start_index:end_index + 1]\n",
        "    combined_text = ' '.join([d['sentence'] for d in group])\n",
        "    chunks.append(combined_text)\n",
        "\n",
        "    # Update the start index for the next group\n",
        "    start_index = index + 1\n",
        "\n",
        "# The last group, if any sentences remain\n",
        "if start_index < len(sentences):\n",
        "    combined_text = ' '.join([d['sentence'] for d in sentences[start_index:]])\n",
        "    chunks.append(combined_text)"
      ]
    },
    {
      "cell_type": "code",
      "execution_count": null,
      "metadata": {
        "colab": {
          "base_uri": "https://localhost:8080/"
        },
        "id": "6D31k42K0lM5",
        "outputId": "d6a4ba47-b661-4998-c017-2993d799fc35"
      },
      "outputs": [
        {
          "name": "stdout",
          "output_type": "stream",
          "text": [
            "Chunk #0\n",
            "Title: Technology at the Dawn of the 21st Century\n",
            "\n",
            "As the world crossed the threshold into the 21st century, the landscape of technology underwent a profound transformation, reshaping the way we live,\n",
            "...\n",
            "to make travel safer, more efficient, and environmentally sustainable. The early 21st century also witnessed significant advancements in the field of artificial intelligence (AI) and machine learning.\n",
            "\n",
            "\n",
            "Chunk #1\n",
            "These technologies, once confined to the realm of science fiction, began to permeate various aspects of everyday life.\n",
            "...\n",
            "These technologies, once confined to the realm of science fiction, began to permeate various aspects of everyday life.\n",
            "\n",
            "\n"
          ]
        }
      ],
      "source": [
        "for i, chunk in enumerate(chunks[:2]):\n",
        "    buffer = 200\n",
        "\n",
        "    print (f\"Chunk #{i}\")\n",
        "    print (chunk[:buffer].strip())\n",
        "    print (\"...\")\n",
        "    print (chunk[-buffer:].strip())\n",
        "    print (\"\\n\")"
      ]
    },
    {
      "cell_type": "code",
      "execution_count": null,
      "metadata": {
        "colab": {
          "base_uri": "https://localhost:8080/"
        },
        "id": "mbSePh0Z02qe",
        "outputId": "1e5ef4ba-9aa9-4614-93ac-538f8df711ef"
      },
      "outputs": [
        {
          "data": {
            "text/plain": [
              "6"
            ]
          },
          "execution_count": 111,
          "metadata": {},
          "output_type": "execute_result"
        }
      ],
      "source": [
        "len(chunks)"
      ]
    },
    {
      "cell_type": "code",
      "execution_count": null,
      "metadata": {
        "colab": {
          "base_uri": "https://localhost:8080/"
        },
        "id": "x886vGfz1DVs",
        "outputId": "e094f1cc-cb3a-4885-983e-e4c085c6eed5"
      },
      "outputs": [
        {
          "data": {
            "text/plain": [
              "['Title: Technology at the Dawn of the 21st Century\\n\\nAs the world crossed the threshold into the 21st century, the landscape of technology underwent a profound transformation, reshaping the way we live, work, and interact. This era marked a pivotal moment in human history, characterized by rapid advancements in various fields of technology, revolutionizing communication, transportation, healthcare, and more. In this essay, we will explore the technological landscape at the dawn of the 21st century and its profound impact on society. One of the most significant technological breakthroughs of the early 21st century was the widespread adoption of the internet. The internet had already begun to gain traction in the late 20th century, but its influence truly exploded in the early years of the new millennium. With the advent of high-speed broadband connections, the internet became more accessible to people around the world, facilitating instant communication, access to information, and the rise of e-commerce. The proliferation of smartphones and mobile devices further accelerated the internet revolution. These portable gadgets empowered individuals to stay connected on the go, access a wealth of digital content, and engage with various online services. Social media platforms like Facebook, Twitter, and Instagram emerged as dominant forces, reshaping how people communicate, share information, and build communities. In addition to transforming communication, technology also revolutionized industries such as healthcare and transportation. The development of advanced medical imaging techniques, robotics, and telemedicine enabled more accurate diagnoses, minimally invasive surgeries, and remote patient monitoring. Similarly, innovations in transportation, such as electric vehicles and autonomous driving technology, promised to make travel safer, more efficient, and environmentally sustainable. The early 21st century also witnessed significant advancements in the field of artificial intelligence (AI) and machine learning.',\n",
              " 'These technologies, once confined to the realm of science fiction, began to permeate various aspects of everyday life.',\n",
              " 'AI-powered algorithms fueled personalized recommendations on streaming services, optimized logistics and supply chains, and even assisted in diagnosing diseases and predicting outcomes in healthcare. Furthermore, the rise of renewable energy technologies marked a crucial turning point in the fight against climate change.',\n",
              " \"Solar panels, wind turbines, and other green energy sources gained traction as alternatives to fossil fuels, offering cleaner and more sustainable solutions to meet the world's growing energy demands. Governments and corporations increasingly invested in renewable energy infrastructure, signaling a shift towards a more environmentally conscious future.\",\n",
              " 'However, along with its myriad benefits, the rapid pace of technological advancement also brought about new challenges and ethical dilemmas.',\n",
              " 'Concerns about data privacy, cybersecurity, and the ethical implications of AI algorithms became increasingly prominent. The digital divide widened, exacerbating inequalities as some communities struggled to access or afford the latest technologies. In conclusion, the dawn of the 21st century marked a period of unprecedented technological progress, reshaping nearly every aspect of human society. From the internet and mobile devices to artificial intelligence and renewable energy, the innovations of this era have transformed how we live, work, and interact with the world around us. As we continue to navigate the complexities of the digital age, it is essential to harness the potential of technology for the greater good while addressing its associated challenges and ensuring inclusivity and ethical responsibility.']"
            ]
          },
          "execution_count": 112,
          "metadata": {},
          "output_type": "execute_result"
        }
      ],
      "source": [
        "chunks"
      ]
    },
    {
      "cell_type": "markdown",
      "metadata": {
        "id": "M7hHZO1f1BHR"
      },
      "source": [
        "- chunks are ready by here"
      ]
    },
    {
      "cell_type": "markdown",
      "metadata": {
        "id": "xicW-JzJ1lbT"
      },
      "source": [
        "### 4/Agentic Chunking"
      ]
    },
    {
      "cell_type": "code",
      "execution_count": null,
      "metadata": {
        "id": "8aXbm86P1xnO"
      },
      "outputs": [],
      "source": [
        "!pip install langchainhub -q"
      ]
    },
    {
      "cell_type": "code",
      "execution_count": null,
      "metadata": {
        "id": "WzdK-lOV1oIB"
      },
      "outputs": [],
      "source": [
        "from langchain.output_parsers.openai_tools import JsonOutputToolsParser\n",
        "from langchain_community.chat_models import ChatOpenAI\n",
        "from langchain_core.prompts import ChatPromptTemplate\n",
        "from langchain_core.runnables import RunnableLambda\n",
        "from langchain.chains import create_extraction_chain\n",
        "from typing import Optional, List\n",
        "from langchain.chains import create_extraction_chain_pydantic\n",
        "from langchain_core.pydantic_v1 import BaseModel\n",
        "from langchain import hub"
      ]
    },
    {
      "cell_type": "code",
      "execution_count": null,
      "metadata": {
        "colab": {
          "base_uri": "https://localhost:8080/"
        },
        "id": "JBouzypc1owL",
        "outputId": "bc783179-0be1-4e6a-dc37-67b00b2340d9"
      },
      "outputs": [
        {
          "name": "stderr",
          "output_type": "stream",
          "text": [
            "/usr/local/lib/python3.10/dist-packages/langchain_core/_api/deprecation.py:117: LangChainDeprecationWarning: The class `langchain_community.chat_models.openai.ChatOpenAI` was deprecated in langchain-community 0.0.10 and will be removed in 0.2.0. An updated version of the class exists in the langchain-openai package and should be used instead. To use it run `pip install -U langchain-openai` and import as `from langchain_openai import ChatOpenAI`.\n",
            "  warn_deprecated(\n"
          ]
        }
      ],
      "source": [
        "obj = hub.pull(\"wfh/proposal-indexing\")\n",
        "llm = ChatOpenAI(model='gpt-4-1106-preview', openai_api_key = os.getenv(\"OPENAI_API_KEY\", ''))"
      ]
    },
    {
      "cell_type": "code",
      "execution_count": null,
      "metadata": {
        "id": "2cip-fEX2AsM"
      },
      "outputs": [],
      "source": [
        "# use it in a runnable\n",
        "runnable = obj | llm"
      ]
    },
    {
      "cell_type": "code",
      "execution_count": null,
      "metadata": {
        "id": "oguRp-dd2DnE"
      },
      "outputs": [],
      "source": [
        "# Pydantic data class\n",
        "class Sentences(BaseModel):\n",
        "    sentences: List[str]\n",
        "\n",
        "# Extraction\n",
        "extraction_chain = create_extraction_chain_pydantic(pydantic_schema=Sentences, llm=llm)"
      ]
    },
    {
      "cell_type": "code",
      "execution_count": null,
      "metadata": {
        "id": "nbemA3ps2HJZ"
      },
      "outputs": [],
      "source": [
        "def get_propositions(text):\n",
        "    runnable_output = runnable.invoke({\n",
        "    \t\"input\": text\n",
        "    }).content\n",
        "\n",
        "    propositions = extraction_chain.run(runnable_output)[0].sentences\n",
        "    return propositions"
      ]
    },
    {
      "cell_type": "code",
      "execution_count": null,
      "metadata": {
        "id": "JWkDZMJq2QLJ"
      },
      "outputs": [],
      "source": [
        "text_file_path = \"/content/drive/MyDrive/Colab Notebooks/rag-with-chromadb/data/Technology at the Dawn of the 21st Century.txt\"\n",
        "with open(text_file_path) as file:\n",
        "    essay = file.read()"
      ]
    },
    {
      "cell_type": "code",
      "execution_count": null,
      "metadata": {
        "id": "oeNrC33u2WTQ"
      },
      "outputs": [],
      "source": [
        "paragraphs = essay.split(\"\\n\\n\")"
      ]
    },
    {
      "cell_type": "code",
      "execution_count": null,
      "metadata": {
        "colab": {
          "base_uri": "https://localhost:8080/"
        },
        "id": "Mnmc73xS2ZDm",
        "outputId": "36edf6b8-701a-47fd-bb83-fdbdc4b416ee"
      },
      "outputs": [
        {
          "data": {
            "text/plain": [
              "9"
            ]
          },
          "execution_count": 124,
          "metadata": {},
          "output_type": "execute_result"
        }
      ],
      "source": [
        "len(paragraphs)"
      ]
    },
    {
      "cell_type": "code",
      "execution_count": null,
      "metadata": {
        "colab": {
          "base_uri": "https://localhost:8080/"
        },
        "id": "cXJpQKC43Fo4",
        "outputId": "7301891f-f448-43dd-a7f9-bbb04afaa34c"
      },
      "outputs": [
        {
          "name": "stderr",
          "output_type": "stream",
          "text": [
            "/usr/local/lib/python3.10/dist-packages/langchain_core/_api/deprecation.py:117: LangChainDeprecationWarning: The function `run` was deprecated in LangChain 0.1.0 and will be removed in 0.2.0. Use invoke instead.\n",
            "  warn_deprecated(\n"
          ]
        },
        {
          "name": "stdout",
          "output_type": "stream",
          "text": [
            "Done with 0\n",
            "Done with 1\n",
            "Done with 2\n",
            "Done with 3\n",
            "Done with 4\n"
          ]
        }
      ],
      "source": [
        "essay_propositions = []\n",
        "\n",
        "for i, para in enumerate(paragraphs):\n",
        "    propositions = get_propositions(para)\n",
        "\n",
        "    essay_propositions.extend(propositions)\n",
        "    print (f\"Done with {i}\")"
      ]
    },
    {
      "cell_type": "code",
      "execution_count": null,
      "metadata": {
        "colab": {
          "base_uri": "https://localhost:8080/"
        },
        "id": "K66wcjE93uR_",
        "outputId": "7c2eef4d-2dc5-44fb-940b-8a4ee1bcbb91"
      },
      "outputs": [
        {
          "name": "stdout",
          "output_type": "stream",
          "text": [
            "You have 45 propositions\n"
          ]
        },
        {
          "data": {
            "text/plain": [
              "[\"The title of the content is 'Technology at the Dawn of the 21st Century'.\",\n",
              " 'The world crossed the threshold into the 21st century.',\n",
              " 'The landscape of technology underwent a profound transformation as the world crossed into the 21st century.',\n",
              " 'The transformation of the technological landscape reshaped the way people live.',\n",
              " 'The transformation of the technological landscape reshaped the way people work.',\n",
              " 'The transformation of the technological landscape reshaped the way people interact.',\n",
              " 'The era at the dawn of the 21st century marked a pivotal moment in human history.',\n",
              " 'The era at the dawn of the 21st century was characterized by rapid advancements in various fields of technology.',\n",
              " 'Rapid advancements in technology revolutionized communication.',\n",
              " 'Rapid advancements in technology revolutionized transportation.']"
            ]
          },
          "execution_count": 126,
          "metadata": {},
          "output_type": "execute_result"
        }
      ],
      "source": [
        "print (f\"You have {len(essay_propositions)} propositions\")\n",
        "essay_propositions[:10]"
      ]
    },
    {
      "cell_type": "code",
      "execution_count": null,
      "metadata": {
        "id": "suJTq8kU4HA2"
      },
      "outputs": [],
      "source": [
        "from langchain_core.prompts import ChatPromptTemplate\n",
        "import uuid\n",
        "from langchain.chat_models import ChatOpenAI\n",
        "import os\n",
        "from typing import Optional\n",
        "from langchain_core.pydantic_v1 import BaseModel\n",
        "from langchain.chains import create_extraction_chain_pydantic\n",
        "# from dotenv import load_dotenv\n",
        "\n",
        "# load_dotenv()\n",
        "\n",
        "class AgenticChunker:\n",
        "    def __init__(self, openai_api_key=None):\n",
        "        self.chunks = {}\n",
        "        self.id_truncate_limit = 5\n",
        "\n",
        "        # Whether or not to update/refine summaries and titles as you get new information\n",
        "        self.generate_new_metadata_ind = True\n",
        "        self.print_logging = True\n",
        "\n",
        "        if openai_api_key is None:\n",
        "            openai_api_key = os.getenv(\"OPENAI_API_KEY\")\n",
        "\n",
        "        if openai_api_key is None:\n",
        "            raise ValueError(\"API key is not provided and not found in environment variables\")\n",
        "\n",
        "        self.llm = ChatOpenAI(model='gpt-4-1106-preview', openai_api_key=openai_api_key, temperature=0)\n",
        "\n",
        "    def add_propositions(self, propositions):\n",
        "        for proposition in propositions:\n",
        "            self.add_proposition(proposition)\n",
        "\n",
        "    def add_proposition(self, proposition):\n",
        "        if self.print_logging:\n",
        "            print (f\"\\nAdding: '{proposition}'\")\n",
        "\n",
        "        # If it's your first chunk, just make a new chunk and don't check for others\n",
        "        if len(self.chunks) == 0:\n",
        "            if self.print_logging:\n",
        "                print (\"No chunks, creating a new one\")\n",
        "            self._create_new_chunk(proposition)\n",
        "            return\n",
        "\n",
        "        chunk_id = self._find_relevant_chunk(proposition)\n",
        "\n",
        "        # If a chunk was found then add the proposition to it\n",
        "        if chunk_id:\n",
        "            if self.print_logging:\n",
        "                print (f\"Chunk Found ({self.chunks[chunk_id]['chunk_id']}), adding to: {self.chunks[chunk_id]['title']}\")\n",
        "            self.add_proposition_to_chunk(chunk_id, proposition)\n",
        "            return\n",
        "        else:\n",
        "            if self.print_logging:\n",
        "                print (\"No chunks found\")\n",
        "            # If a chunk wasn't found, then create a new one\n",
        "            self._create_new_chunk(proposition)\n",
        "\n",
        "\n",
        "    def add_proposition_to_chunk(self, chunk_id, proposition):\n",
        "        # Add then\n",
        "        self.chunks[chunk_id]['propositions'].append(proposition)\n",
        "\n",
        "        # Then grab a new summary\n",
        "        if self.generate_new_metadata_ind:\n",
        "            self.chunks[chunk_id]['summary'] = self._update_chunk_summary(self.chunks[chunk_id])\n",
        "            self.chunks[chunk_id]['title'] = self._update_chunk_title(self.chunks[chunk_id])\n",
        "\n",
        "    def _update_chunk_summary(self, chunk):\n",
        "        \"\"\"\n",
        "        If you add a new proposition to a chunk, you may want to update the summary or else they could get stale\n",
        "        \"\"\"\n",
        "        PROMPT = ChatPromptTemplate.from_messages(\n",
        "            [\n",
        "                (\n",
        "                    \"system\",\n",
        "                    \"\"\"\n",
        "                    You are the steward of a group of chunks which represent groups of sentences that talk about a similar topic\n",
        "                    A new proposition was just added to one of your chunks, you should generate a very brief 1-sentence summary which will inform viewers what a chunk group is about.\n",
        "\n",
        "                    A good summary will say what the chunk is about, and give any clarifying instructions on what to add to the chunk.\n",
        "\n",
        "                    You will be given a group of propositions which are in the chunk and the chunks current summary.\n",
        "\n",
        "                    Your summaries should anticipate generalization. If you get a proposition about apples, generalize it to food.\n",
        "                    Or month, generalize it to \"date and times\".\n",
        "\n",
        "                    Example:\n",
        "                    Input: Proposition: Greg likes to eat pizza\n",
        "                    Output: This chunk contains information about the types of food Greg likes to eat.\n",
        "\n",
        "                    Only respond with the chunk new summary, nothing else.\n",
        "                    \"\"\",\n",
        "                ),\n",
        "                (\"user\", \"Chunk's propositions:\\n{proposition}\\n\\nCurrent chunk summary:\\n{current_summary}\"),\n",
        "            ]\n",
        "        )\n",
        "\n",
        "        runnable = PROMPT | self.llm\n",
        "\n",
        "        new_chunk_summary = runnable.invoke({\n",
        "            \"proposition\": \"\\n\".join(chunk['propositions']),\n",
        "            \"current_summary\" : chunk['summary']\n",
        "        }).content\n",
        "\n",
        "        return new_chunk_summary\n",
        "\n",
        "    def _update_chunk_title(self, chunk):\n",
        "        \"\"\"\n",
        "        If you add a new proposition to a chunk, you may want to update the title or else it can get stale\n",
        "        \"\"\"\n",
        "        PROMPT = ChatPromptTemplate.from_messages(\n",
        "            [\n",
        "                (\n",
        "                    \"system\",\n",
        "                    \"\"\"\n",
        "                    You are the steward of a group of chunks which represent groups of sentences that talk about a similar topic\n",
        "                    A new proposition was just added to one of your chunks, you should generate a very brief updated chunk title which will inform viewers what a chunk group is about.\n",
        "\n",
        "                    A good title will say what the chunk is about.\n",
        "\n",
        "                    You will be given a group of propositions which are in the chunk, chunk summary and the chunk title.\n",
        "\n",
        "                    Your title should anticipate generalization. If you get a proposition about apples, generalize it to food.\n",
        "                    Or month, generalize it to \"date and times\".\n",
        "\n",
        "                    Example:\n",
        "                    Input: Summary: This chunk is about dates and times that the author talks about\n",
        "                    Output: Date & Times\n",
        "\n",
        "                    Only respond with the new chunk title, nothing else.\n",
        "                    \"\"\",\n",
        "                ),\n",
        "                (\"user\", \"Chunk's propositions:\\n{proposition}\\n\\nChunk summary:\\n{current_summary}\\n\\nCurrent chunk title:\\n{current_title}\"),\n",
        "            ]\n",
        "        )\n",
        "\n",
        "        runnable = PROMPT | self.llm\n",
        "\n",
        "        updated_chunk_title = runnable.invoke({\n",
        "            \"proposition\": \"\\n\".join(chunk['propositions']),\n",
        "            \"current_summary\" : chunk['summary'],\n",
        "            \"current_title\" : chunk['title']\n",
        "        }).content\n",
        "\n",
        "        return updated_chunk_title\n",
        "\n",
        "    def _get_new_chunk_summary(self, proposition):\n",
        "        PROMPT = ChatPromptTemplate.from_messages(\n",
        "            [\n",
        "                (\n",
        "                    \"system\",\n",
        "                    \"\"\"\n",
        "                    You are the steward of a group of chunks which represent groups of sentences that talk about a similar topic\n",
        "                    You should generate a very brief 1-sentence summary which will inform viewers what a chunk group is about.\n",
        "\n",
        "                    A good summary will say what the chunk is about, and give any clarifying instructions on what to add to the chunk.\n",
        "\n",
        "                    You will be given a proposition which will go into a new chunk. This new chunk needs a summary.\n",
        "\n",
        "                    Your summaries should anticipate generalization. If you get a proposition about apples, generalize it to food.\n",
        "                    Or month, generalize it to \"date and times\".\n",
        "\n",
        "                    Example:\n",
        "                    Input: Proposition: Greg likes to eat pizza\n",
        "                    Output: This chunk contains information about the types of food Greg likes to eat.\n",
        "\n",
        "                    Only respond with the new chunk summary, nothing else.\n",
        "                    \"\"\",\n",
        "                ),\n",
        "                (\"user\", \"Determine the summary of the new chunk that this proposition will go into:\\n{proposition}\"),\n",
        "            ]\n",
        "        )\n",
        "\n",
        "        runnable = PROMPT | self.llm\n",
        "\n",
        "        new_chunk_summary = runnable.invoke({\n",
        "            \"proposition\": proposition\n",
        "        }).content\n",
        "\n",
        "        return new_chunk_summary\n",
        "\n",
        "    def _get_new_chunk_title(self, summary):\n",
        "        PROMPT = ChatPromptTemplate.from_messages(\n",
        "            [\n",
        "                (\n",
        "                    \"system\",\n",
        "                    \"\"\"\n",
        "                    You are the steward of a group of chunks which represent groups of sentences that talk about a similar topic\n",
        "                    You should generate a very brief few word chunk title which will inform viewers what a chunk group is about.\n",
        "\n",
        "                    A good chunk title is brief but encompasses what the chunk is about\n",
        "\n",
        "                    You will be given a summary of a chunk which needs a title\n",
        "\n",
        "                    Your titles should anticipate generalization. If you get a proposition about apples, generalize it to food.\n",
        "                    Or month, generalize it to \"date and times\".\n",
        "\n",
        "                    Example:\n",
        "                    Input: Summary: This chunk is about dates and times that the author talks about\n",
        "                    Output: Date & Times\n",
        "\n",
        "                    Only respond with the new chunk title, nothing else.\n",
        "                    \"\"\",\n",
        "                ),\n",
        "                (\"user\", \"Determine the title of the chunk that this summary belongs to:\\n{summary}\"),\n",
        "            ]\n",
        "        )\n",
        "\n",
        "        runnable = PROMPT | self.llm\n",
        "\n",
        "        new_chunk_title = runnable.invoke({\n",
        "            \"summary\": summary\n",
        "        }).content\n",
        "\n",
        "        return new_chunk_title\n",
        "\n",
        "\n",
        "    def _create_new_chunk(self, proposition):\n",
        "        new_chunk_id = str(uuid.uuid4())[:self.id_truncate_limit] # I don't want long ids\n",
        "        new_chunk_summary = self._get_new_chunk_summary(proposition)\n",
        "        new_chunk_title = self._get_new_chunk_title(new_chunk_summary)\n",
        "\n",
        "        self.chunks[new_chunk_id] = {\n",
        "            'chunk_id' : new_chunk_id,\n",
        "            'propositions': [proposition],\n",
        "            'title' : new_chunk_title,\n",
        "            'summary': new_chunk_summary,\n",
        "            'chunk_index' : len(self.chunks)\n",
        "        }\n",
        "        if self.print_logging:\n",
        "            print (f\"Created new chunk ({new_chunk_id}): {new_chunk_title}\")\n",
        "\n",
        "    def get_chunk_outline(self):\n",
        "        \"\"\"\n",
        "        Get a string which represents the chunks you currently have.\n",
        "        This will be empty when you first start off\n",
        "        \"\"\"\n",
        "        chunk_outline = \"\"\n",
        "\n",
        "        for chunk_id, chunk in self.chunks.items():\n",
        "            single_chunk_string = f\"\"\"Chunk ({chunk['chunk_id']}): {chunk['title']}\\nSummary: {chunk['summary']}\\n\\n\"\"\"\n",
        "\n",
        "            chunk_outline += single_chunk_string\n",
        "\n",
        "        return chunk_outline\n",
        "\n",
        "    def _find_relevant_chunk(self, proposition):\n",
        "        current_chunk_outline = self.get_chunk_outline()\n",
        "\n",
        "        PROMPT = ChatPromptTemplate.from_messages(\n",
        "            [\n",
        "                (\n",
        "                    \"system\",\n",
        "                    \"\"\"\n",
        "                    Determine whether or not the \"Proposition\" should belong to any of the existing chunks.\n",
        "\n",
        "                    A proposition should belong to a chunk of their meaning, direction, or intention are similar.\n",
        "                    The goal is to group similar propositions and chunks.\n",
        "\n",
        "                    If you think a proposition should be joined with a chunk, return the chunk id.\n",
        "                    If you do not think an item should be joined with an existing chunk, just return \"No chunks\"\n",
        "\n",
        "                    Example:\n",
        "                    Input:\n",
        "                        - Proposition: \"Greg really likes hamburgers\"\n",
        "                        - Current Chunks:\n",
        "                            - Chunk ID: 2n4l3d\n",
        "                            - Chunk Name: Places in San Francisco\n",
        "                            - Chunk Summary: Overview of the things to do with San Francisco Places\n",
        "\n",
        "                            - Chunk ID: 93833k\n",
        "                            - Chunk Name: Food Greg likes\n",
        "                            - Chunk Summary: Lists of the food and dishes that Greg likes\n",
        "                    Output: 93833k\n",
        "                    \"\"\",\n",
        "                ),\n",
        "                (\"user\", \"Current Chunks:\\n--Start of current chunks--\\n{current_chunk_outline}\\n--End of current chunks--\"),\n",
        "                (\"user\", \"Determine if the following statement should belong to one of the chunks outlined:\\n{proposition}\"),\n",
        "            ]\n",
        "        )\n",
        "\n",
        "        runnable = PROMPT | self.llm\n",
        "\n",
        "        chunk_found = runnable.invoke({\n",
        "            \"proposition\": proposition,\n",
        "            \"current_chunk_outline\": current_chunk_outline\n",
        "        }).content\n",
        "\n",
        "        # Pydantic data class\n",
        "        class ChunkID(BaseModel):\n",
        "            \"\"\"Extracting the chunk id\"\"\"\n",
        "            chunk_id: Optional[str]\n",
        "\n",
        "        # Extraction to catch-all LLM responses. This is a bandaid\n",
        "        extraction_chain = create_extraction_chain_pydantic(pydantic_schema=ChunkID, llm=self.llm)\n",
        "        extraction_found = extraction_chain.run(chunk_found)\n",
        "        if extraction_found:\n",
        "            chunk_found = extraction_found[0].chunk_id\n",
        "\n",
        "        # If you got a response that isn't the chunk id limit, chances are it's a bad response or it found nothing\n",
        "        # So return nothing\n",
        "        if len(chunk_found) != self.id_truncate_limit:\n",
        "            return None\n",
        "\n",
        "        return chunk_found\n",
        "\n",
        "    def get_chunks(self, get_type='dict'):\n",
        "        \"\"\"\n",
        "        This function returns the chunks in the format specified by the 'get_type' parameter.\n",
        "        If 'get_type' is 'dict', it returns the chunks as a dictionary.\n",
        "        If 'get_type' is 'list_of_strings', it returns the chunks as a list of strings, where each string is a proposition in the chunk.\n",
        "        \"\"\"\n",
        "        if get_type == 'dict':\n",
        "            return self.chunks\n",
        "        if get_type == 'list_of_strings':\n",
        "            chunks = []\n",
        "            for chunk_id, chunk in self.chunks.items():\n",
        "                chunks.append(\" \".join([x for x in chunk['propositions']]))\n",
        "            return chunks\n",
        "\n",
        "    def pretty_print_chunks(self):\n",
        "        print (f\"\\nYou have {len(self.chunks)} chunks\\n\")\n",
        "        for chunk_id, chunk in self.chunks.items():\n",
        "            print(f\"Chunk #{chunk['chunk_index']}\")\n",
        "            print(f\"Chunk ID: {chunk_id}\")\n",
        "            print(f\"Summary: {chunk['summary']}\")\n",
        "            print(f\"Propositions:\")\n",
        "            for prop in chunk['propositions']:\n",
        "                print(f\"    -{prop}\")\n",
        "            print(\"\\n\\n\")\n",
        "\n",
        "    def pretty_print_chunk_outline(self):\n",
        "        print (\"Chunk Outline\\n\")\n",
        "        print(self.get_chunk_outline())\n",
        "\n",
        "# if __name__ == \"__main__\":\n",
        "#     ac = AgenticChunker()\n",
        "\n",
        "#     ac.add_propositions(propositions)\n",
        "#     ac.pretty_print_chunks()\n",
        "#     ac.pretty_print_chunk_outline()\n",
        "#     print (ac.get_chunks(get_type='list_of_strings'))"
      ]
    },
    {
      "cell_type": "code",
      "execution_count": null,
      "metadata": {
        "id": "hhcr3dbY4EAB"
      },
      "outputs": [],
      "source": [
        "# mini script I made\n",
        "# from agentic_chunker import AgenticChunker"
      ]
    },
    {
      "cell_type": "code",
      "execution_count": null,
      "metadata": {
        "id": "4xWq9R9q6shk"
      },
      "outputs": [],
      "source": [
        "ac = AgenticChunker()"
      ]
    },
    {
      "cell_type": "code",
      "execution_count": null,
      "metadata": {
        "colab": {
          "base_uri": "https://localhost:8080/"
        },
        "id": "NnqFpxM94EkA",
        "outputId": "54fb46b5-8576-4e1a-851b-864d89af29a1"
      },
      "outputs": [
        {
          "name": "stdout",
          "output_type": "stream",
          "text": [
            "\n",
            "Adding: 'The title of the content is 'Technology at the Dawn of the 21st Century'.'\n",
            "Chunk Found (c18b3), adding to: Dates & Years\n",
            "\n",
            "Adding: 'The world crossed the threshold into the 21st century.'\n",
            "Chunk Found (c18b3), adding to: Dates, Times & Titles\n",
            "\n",
            "Adding: 'The landscape of technology underwent a profound transformation as the world crossed into the 21st century.'\n",
            "Chunk Found (c18b3), adding to: Dates, Times & Historical Contexts\n",
            "\n",
            "Adding: 'The transformation of the technological landscape reshaped the way people live.'\n",
            "Chunk Found (c18b3), adding to: Dates, Times & Technological Transformation at the Turn of the 21st Century\n",
            "\n",
            "Adding: 'The transformation of the technological landscape reshaped the way people work.'\n",
            "Chunk Found (c18b3), adding to: Historical Dates & Technological Evolution at the 21st Century's Onset\n",
            "\n",
            "Adding: 'The transformation of the technological landscape reshaped the way people interact.'\n",
            "Chunk Found (c18b3), adding to: Timeline & Impact of Technology at the 21st Century Transition\n",
            "\n",
            "Adding: 'The era at the dawn of the 21st century marked a pivotal moment in human history.'\n",
            "Chunk Found (c18b3), adding to: 21st Century Technological Transformation & Time References\n",
            "\n",
            "Adding: 'The era at the dawn of the 21st century was characterized by rapid advancements in various fields of technology.'\n",
            "Chunk Found (c18b3), adding to: Technological Impact & Historical Timeframe\n",
            "\n",
            "Adding: 'Rapid advancements in technology revolutionized communication.'\n",
            "Chunk Found (c18b3), adding to: Technological Transformation in the Early 21st Century & Dates\n",
            "\n",
            "Adding: 'Rapid advancements in technology revolutionized transportation.'\n",
            "Chunk Found (c18b3), adding to: Technological Impact & Advancements in the Early 21st Century & Time References\n",
            "\n",
            "Adding: 'Rapid advancements in technology revolutionized healthcare.'\n",
            "Chunk Found (c18b3), adding to: Technological Transformation & Time References in the Early 21st Century\n",
            "\n",
            "Adding: 'The technological landscape at the dawn of the 21st century had a profound impact on society.'\n",
            "Chunk Found (c18b3), adding to: Technological Advancements & Historical Context in the 21st Century\n",
            "\n",
            "Adding: 'The essay will explore the technological landscape at the dawn of the 21st century.'\n",
            "Chunk Found (c18b3), adding to: Technological Transformation & Society in the Early 21st Century\n",
            "\n",
            "Adding: 'The essay will explore the impact of the technological landscape on society at the dawn of the 21st century.'\n",
            "Chunk Found (c18b3), adding to: Technological Advancements & Societal Impact at the Turn of the 21st Century\n",
            "\n",
            "Adding: 'The widespread adoption of the internet was one of the most significant technological breakthroughs of the early 21st century.'\n",
            "Chunk Found (c18b3), adding to: Technological Transformation & Societal Changes in the Early 21st Century\n",
            "\n",
            "Adding: 'The proliferation of smartphones and mobile devices accelerated the internet revolution.'\n",
            "Chunk Found (c18b3), adding to: Technological Advancements & Impact on Society in the Early 21st Century\n",
            "\n",
            "Adding: 'Smartphones and mobile devices are portable.'\n",
            "No chunks found\n",
            "Created new chunk (adffd): Smartphone Features\n",
            "\n",
            "Adding: 'Individuals are empowered to stay connected on the go by smartphones and mobile devices.'\n",
            "Chunk Found (adffd), adding to: Smartphone Features\n",
            "\n",
            "Adding: 'Individuals are empowered to access a wealth of digital content by smartphones and mobile devices.'\n",
            "Chunk Found (adffd), adding to: Portability & Connectivity of Mobile Devices\n",
            "\n",
            "Adding: 'Individuals are empowered to engage with various online services by smartphones and mobile devices.'\n",
            "Chunk Found (adffd), adding to: Smartphones & Mobile Devices: Functionality and Benefits\n",
            "\n",
            "Adding: 'Social media platforms emerged as dominant forces.'\n",
            "Chunk Found (c18b3), adding to: Technological Transformation & Society at the 21st Century's Start\n",
            "\n",
            "Adding: 'Facebook is a social media platform.'\n",
            "No chunks found\n",
            "Created new chunk (b0610): Social Media Platforms\n",
            "\n",
            "Adding: 'Twitter is a social media platform.'\n",
            "Chunk Found (b0610), adding to: Social Media Platforms\n",
            "\n",
            "Adding: 'Instagram is a social media platform.'\n",
            "Chunk Found (b0610), adding to: Social Media Platform Categorization\n",
            "\n",
            "Adding: 'Social media platforms are reshaping how people communicate.'\n",
            "Chunk Found (b0610), adding to: Social Media Platforms\n",
            "\n",
            "Adding: 'Social media platforms are reshaping how people share information.'\n",
            "Chunk Found (b0610), adding to: Impact of Social Media on Communication\n",
            "\n",
            "Adding: 'Social media platforms are reshaping how people build communities.'\n",
            "Chunk Found (b0610), adding to: Social Media Platforms & Their Influence\n",
            "\n",
            "Adding: 'Technology transformed communication.'\n",
            "Chunk Found (b0610), adding to: Social Media Impact on Communication & Community Building\n",
            "\n",
            "Adding: 'Technology revolutionized the healthcare industry.'\n",
            "No chunks found\n",
            "Created new chunk (72d07): Impact of Technology on Industries\n",
            "\n",
            "Adding: 'Technology revolutionized the transportation industry.'\n",
            "Chunk Found (72d07), adding to: Impact of Technology on Industries\n",
            "\n",
            "Adding: 'The development of advanced medical imaging techniques occurred.'\n",
            "Chunk Found (72d07), adding to: Technological Transformations Across Sectors\n",
            "\n",
            "Adding: 'The development of robotics occurred in the healthcare industry.'\n",
            "Chunk Found (72d07), adding to: Technological Advancements in Various Industries\n",
            "\n",
            "Adding: 'The development of telemedicine occurred.'\n",
            "Chunk Found (72d07), adding to: Impact of Technology on Industries\n",
            "\n",
            "Adding: 'Advanced medical imaging techniques enabled more accurate diagnoses.'\n",
            "Chunk Found (72d07), adding to: Technological Advancements in Various Industries\n",
            "\n",
            "Adding: 'Robotics enabled minimally invasive surgeries.'\n",
            "Chunk Found (72d07), adding to: Technological Transformations in Healthcare & Transportation\n",
            "\n",
            "Adding: 'Telemedicine enabled remote patient monitoring.'\n",
            "Chunk Found (72d07), adding to: Impact of Technology on Healthcare and Transportation Industries\n",
            "\n",
            "Adding: 'Innovations occurred in the transportation industry.'\n",
            "Chunk Found (72d07), adding to: Technological Advancements in Industries\n",
            "\n",
            "Adding: 'Electric vehicles were developed.'\n",
            "Chunk Found (72d07), adding to: Technological Transformations in Healthcare & Transportation\n",
            "\n",
            "Adding: 'Autonomous driving technology was developed.'\n",
            "Chunk Found (72d07), adding to: Technological Advancements in Industries\n",
            "\n",
            "Adding: 'Electric vehicles promised to make travel safer.'\n",
            "Chunk Found (72d07), adding to: Impact of Technology on Healthcare & Transportation\n",
            "\n",
            "Adding: 'Electric vehicles promised to make travel more efficient.'\n",
            "Chunk Found (72d07), adding to: Technological Advancements in Industries\n",
            "\n",
            "Adding: 'Electric vehicles promised to make travel environmentally sustainable.'\n",
            "Chunk Found (72d07), adding to: Technological Innovations in Healthcare & Transportation\n",
            "\n",
            "Adding: 'Autonomous driving technology promised to make travel safer.'\n",
            "Chunk Found (72d07), adding to: Technological Advancements in Industries\n",
            "\n",
            "Adding: 'Autonomous driving technology promised to make travel more efficient.'\n",
            "Chunk Found (72d07), adding to: Impact of Technology on Healthcare & Transportation\n",
            "\n",
            "Adding: 'Autonomous driving technology promised to make travel environmentally sustainable.'\n",
            "Chunk Found (72d07), adding to: Technological Advancements in Healthcare & Transportation\n"
          ]
        }
      ],
      "source": [
        "ac.add_propositions(essay_propositions)"
      ]
    },
    {
      "cell_type": "code",
      "execution_count": null,
      "metadata": {
        "colab": {
          "base_uri": "https://localhost:8080/"
        },
        "id": "VtJjSUPs7NDd",
        "outputId": "3c4ba6c2-3da5-43cf-f74b-fc61e07d5a6d"
      },
      "outputs": [
        {
          "name": "stdout",
          "output_type": "stream",
          "text": [
            "\n",
            "You have 5 chunks\n",
            "\n",
            "Chunk #0\n",
            "Chunk ID: c18b3\n",
            "Summary: This chunk explores the transformative impact of technological advancements on society, work, and interpersonal interactions at the dawn of the 21st century, including the content of an essay addressing these changes.\n",
            "Propositions:\n",
            "    -The month is October.\n",
            "    -The year is 2023.\n",
            "    -The title of the content is 'Technology at the Dawn of the 21st Century'.\n",
            "    -The world crossed the threshold into the 21st century.\n",
            "    -The landscape of technology underwent a profound transformation as the world crossed into the 21st century.\n",
            "    -The transformation of the technological landscape reshaped the way people live.\n",
            "    -The transformation of the technological landscape reshaped the way people work.\n",
            "    -The transformation of the technological landscape reshaped the way people interact.\n",
            "    -The era at the dawn of the 21st century marked a pivotal moment in human history.\n",
            "    -The era at the dawn of the 21st century was characterized by rapid advancements in various fields of technology.\n",
            "    -Rapid advancements in technology revolutionized communication.\n",
            "    -Rapid advancements in technology revolutionized transportation.\n",
            "    -Rapid advancements in technology revolutionized healthcare.\n",
            "    -The technological landscape at the dawn of the 21st century had a profound impact on society.\n",
            "    -The essay will explore the technological landscape at the dawn of the 21st century.\n",
            "    -The essay will explore the impact of the technological landscape on society at the dawn of the 21st century.\n",
            "    -The widespread adoption of the internet was one of the most significant technological breakthroughs of the early 21st century.\n",
            "    -The proliferation of smartphones and mobile devices accelerated the internet revolution.\n",
            "    -Social media platforms emerged as dominant forces.\n",
            "\n",
            "\n",
            "\n",
            "Chunk #1\n",
            "Chunk ID: e6608\n",
            "Summary: This chunk contains insights on the non-linear relationship between performance and rewards.\n",
            "Propositions:\n",
            "    -One of the most important things that I didn't understand about the world as a child was the degree to which the returns for performance are superlinear.\n",
            "\n",
            "\n",
            "\n",
            "Chunk #2\n",
            "Chunk ID: adffd\n",
            "Summary: This chunk discusses the functionalities, benefits, and empowerment provided by smartphones and mobile devices, including portability, connectivity, and access to digital content and services.\n",
            "Propositions:\n",
            "    -Smartphones and mobile devices are portable.\n",
            "    -Individuals are empowered to stay connected on the go by smartphones and mobile devices.\n",
            "    -Individuals are empowered to access a wealth of digital content by smartphones and mobile devices.\n",
            "    -Individuals are empowered to engage with various online services by smartphones and mobile devices.\n",
            "\n",
            "\n",
            "\n",
            "Chunk #3\n",
            "Chunk ID: b0610\n",
            "Summary: This chunk discusses different social media platforms and their role in transforming communication, sharing information, and fostering communities.\n",
            "Propositions:\n",
            "    -Facebook is a social media platform.\n",
            "    -Twitter is a social media platform.\n",
            "    -Instagram is a social media platform.\n",
            "    -Social media platforms are reshaping how people communicate.\n",
            "    -Social media platforms are reshaping how people share information.\n",
            "    -Social media platforms are reshaping how people build communities.\n",
            "    -Technology transformed communication.\n",
            "\n",
            "\n",
            "\n",
            "Chunk #4\n",
            "Chunk ID: 72d07\n",
            "Summary: This chunk explores the impact of technology on the healthcare and transportation sectors, highlighting innovations like medical imaging, robotics, telemedicine, and developments in electric and autonomous vehicles.\n",
            "Propositions:\n",
            "    -Technology revolutionized the healthcare industry.\n",
            "    -Technology revolutionized the transportation industry.\n",
            "    -The development of advanced medical imaging techniques occurred.\n",
            "    -The development of robotics occurred in the healthcare industry.\n",
            "    -The development of telemedicine occurred.\n",
            "    -Advanced medical imaging techniques enabled more accurate diagnoses.\n",
            "    -Robotics enabled minimally invasive surgeries.\n",
            "    -Telemedicine enabled remote patient monitoring.\n",
            "    -Innovations occurred in the transportation industry.\n",
            "    -Electric vehicles were developed.\n",
            "    -Autonomous driving technology was developed.\n",
            "    -Electric vehicles promised to make travel safer.\n",
            "    -Electric vehicles promised to make travel more efficient.\n",
            "    -Electric vehicles promised to make travel environmentally sustainable.\n",
            "    -Autonomous driving technology promised to make travel safer.\n",
            "    -Autonomous driving technology promised to make travel more efficient.\n",
            "    -Autonomous driving technology promised to make travel environmentally sustainable.\n",
            "\n",
            "\n",
            "\n"
          ]
        }
      ],
      "source": [
        "ac.pretty_print_chunks()"
      ]
    },
    {
      "cell_type": "code",
      "execution_count": null,
      "metadata": {
        "id": "aUyHYDsU7DXD"
      },
      "outputs": [],
      "source": [
        "chunks = ac.get_chunks(get_type='list_of_strings')"
      ]
    },
    {
      "cell_type": "code",
      "execution_count": null,
      "metadata": {
        "colab": {
          "base_uri": "https://localhost:8080/"
        },
        "id": "oZNaHwdE7HTp",
        "outputId": "0b21b1aa-afb8-4aa4-a5f9-ec06e84931dd"
      },
      "outputs": [
        {
          "data": {
            "text/plain": [
              "[\"The month is October. The year is 2023. The title of the content is 'Technology at the Dawn of the 21st Century'. The world crossed the threshold into the 21st century. The landscape of technology underwent a profound transformation as the world crossed into the 21st century. The transformation of the technological landscape reshaped the way people live. The transformation of the technological landscape reshaped the way people work. The transformation of the technological landscape reshaped the way people interact. The era at the dawn of the 21st century marked a pivotal moment in human history. The era at the dawn of the 21st century was characterized by rapid advancements in various fields of technology. Rapid advancements in technology revolutionized communication. Rapid advancements in technology revolutionized transportation. Rapid advancements in technology revolutionized healthcare. The technological landscape at the dawn of the 21st century had a profound impact on society. The essay will explore the technological landscape at the dawn of the 21st century. The essay will explore the impact of the technological landscape on society at the dawn of the 21st century. The widespread adoption of the internet was one of the most significant technological breakthroughs of the early 21st century. The proliferation of smartphones and mobile devices accelerated the internet revolution. Social media platforms emerged as dominant forces.\",\n",
              " \"One of the most important things that I didn't understand about the world as a child was the degree to which the returns for performance are superlinear.\",\n",
              " 'Smartphones and mobile devices are portable. Individuals are empowered to stay connected on the go by smartphones and mobile devices. Individuals are empowered to access a wealth of digital content by smartphones and mobile devices. Individuals are empowered to engage with various online services by smartphones and mobile devices.',\n",
              " 'Facebook is a social media platform. Twitter is a social media platform. Instagram is a social media platform. Social media platforms are reshaping how people communicate. Social media platforms are reshaping how people share information. Social media platforms are reshaping how people build communities. Technology transformed communication.',\n",
              " 'Technology revolutionized the healthcare industry. Technology revolutionized the transportation industry. The development of advanced medical imaging techniques occurred. The development of robotics occurred in the healthcare industry. The development of telemedicine occurred. Advanced medical imaging techniques enabled more accurate diagnoses. Robotics enabled minimally invasive surgeries. Telemedicine enabled remote patient monitoring. Innovations occurred in the transportation industry. Electric vehicles were developed. Autonomous driving technology was developed. Electric vehicles promised to make travel safer. Electric vehicles promised to make travel more efficient. Electric vehicles promised to make travel environmentally sustainable. Autonomous driving technology promised to make travel safer. Autonomous driving technology promised to make travel more efficient. Autonomous driving technology promised to make travel environmentally sustainable.']"
            ]
          },
          "execution_count": 139,
          "metadata": {},
          "output_type": "execute_result"
        }
      ],
      "source": [
        "chunks"
      ]
    },
    {
      "cell_type": "code",
      "execution_count": null,
      "metadata": {
        "colab": {
          "base_uri": "https://localhost:8080/"
        },
        "id": "GSrfZsNB7H2C",
        "outputId": "63dc82e7-74e9-44b3-a4bf-3d05955192ea"
      },
      "outputs": [
        {
          "data": {
            "text/plain": [
              "5"
            ]
          },
          "execution_count": 140,
          "metadata": {},
          "output_type": "execute_result"
        }
      ],
      "source": [
        "len(chunks)"
      ]
    },
    {
      "cell_type": "code",
      "execution_count": null,
      "metadata": {
        "id": "KEHiiq_57H40"
      },
      "outputs": [],
      "source": []
    },
    {
      "cell_type": "code",
      "execution_count": null,
      "metadata": {
        "id": "KwXA2AdT7H7R"
      },
      "outputs": [],
      "source": []
    },
    {
      "cell_type": "code",
      "execution_count": null,
      "metadata": {
        "id": "2WcDE3FJ7H9x"
      },
      "outputs": [],
      "source": []
    }
  ],
  "metadata": {
    "colab": {
      "provenance": []
    },
    "kernelspec": {
      "display_name": "edyoda",
      "language": "python",
      "name": "python3"
    },
    "language_info": {
      "name": "python",
      "version": "3.12.6"
    }
  },
  "nbformat": 4,
  "nbformat_minor": 0
}
